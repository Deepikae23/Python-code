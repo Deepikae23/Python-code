{
 "cells": [
  {
   "cell_type": "markdown",
   "id": "6d32bcd6-f65d-4a3d-9636-fa01c359d1af",
   "metadata": {},
   "source": [
    "python variable or identifier concept\n",
    "syntax -> variable name (or) idenfier = value"
   ]
  },
  {
   "cell_type": "code",
   "execution_count": 2,
   "id": "e7b53f4e-b45b-4830-90ef-3a84d85ca58d",
   "metadata": {},
   "outputs": [],
   "source": [
    "NIT = 15"
   ]
  },
  {
   "cell_type": "code",
   "execution_count": 3,
   "id": "90e92a08-3bca-4344-acdb-97e570373dc7",
   "metadata": {},
   "outputs": [
    {
     "data": {
      "text/plain": [
       "15"
      ]
     },
     "execution_count": 3,
     "metadata": {},
     "output_type": "execute_result"
    }
   ],
   "source": [
    "NIT"
   ]
  },
  {
   "cell_type": "code",
   "execution_count": 4,
   "id": "0ee235b4-6e61-4351-9f69-891b947761a0",
   "metadata": {},
   "outputs": [],
   "source": [
    "v = 20"
   ]
  },
  {
   "cell_type": "code",
   "execution_count": 5,
   "id": "ba08f3e8-2a40-4d2c-a9ef-a8f9f0c057c9",
   "metadata": {},
   "outputs": [
    {
     "data": {
      "text/plain": [
       "20"
      ]
     },
     "execution_count": 5,
     "metadata": {},
     "output_type": "execute_result"
    }
   ],
   "source": [
    "v"
   ]
  },
  {
   "cell_type": "code",
   "execution_count": 6,
   "id": "1303cce0-0259-4313-806a-803a9a3c3481",
   "metadata": {},
   "outputs": [
    {
     "name": "stdout",
     "output_type": "stream",
     "text": [
      "20\n",
      "15\n"
     ]
    }
   ],
   "source": [
    "print(v)\n",
    "print(NIT)"
   ]
  },
  {
   "cell_type": "code",
   "execution_count": 7,
   "id": "714fa534-f09b-40b6-ac36-39dc43f12758",
   "metadata": {},
   "outputs": [
    {
     "ename": "NameError",
     "evalue": "name 'Nit' is not defined",
     "output_type": "error",
     "traceback": [
      "\u001b[1;31m---------------------------------------------------------------------------\u001b[0m",
      "\u001b[1;31mNameError\u001b[0m                                 Traceback (most recent call last)",
      "Cell \u001b[1;32mIn[7], line 1\u001b[0m\n\u001b[1;32m----> 1\u001b[0m Nit\n",
      "\u001b[1;31mNameError\u001b[0m: name 'Nit' is not defined"
     ]
    }
   ],
   "source": [
    "Nit "
   ]
  },
  {
   "cell_type": "code",
   "execution_count": 20,
   "id": "4bc900ae-8393-418e-aabc-d1fda56854a1",
   "metadata": {},
   "outputs": [
    {
     "data": {
      "text/plain": [
       "15"
      ]
     },
     "execution_count": 20,
     "metadata": {},
     "output_type": "execute_result"
    }
   ],
   "source": [
    "NIT"
   ]
  },
  {
   "cell_type": "code",
   "execution_count": 22,
   "id": "2e080f07-88de-4f27-b76c-20d1a9761a26",
   "metadata": {},
   "outputs": [
    {
     "ename": "SyntaxError",
     "evalue": "invalid decimal literal (3644059140.py, line 1)",
     "output_type": "error",
     "traceback": [
      "\u001b[1;36m  Cell \u001b[1;32mIn[22], line 1\u001b[1;36m\u001b[0m\n\u001b[1;33m    1var = 20\u001b[0m\n\u001b[1;37m    ^\u001b[0m\n\u001b[1;31mSyntaxError\u001b[0m\u001b[1;31m:\u001b[0m invalid decimal literal\n"
     ]
    }
   ],
   "source": [
    "1var = 20\n",
    "1var"
   ]
  },
  {
   "cell_type": "code",
   "execution_count": 24,
   "id": "16a13f62-d9c9-4058-9002-6751689e502c",
   "metadata": {},
   "outputs": [
    {
     "data": {
      "text/plain": [
       "20"
      ]
     },
     "execution_count": 24,
     "metadata": {},
     "output_type": "execute_result"
    }
   ],
   "source": [
    "var1 = 20\n",
    "var1"
   ]
  },
  {
   "cell_type": "code",
   "execution_count": 26,
   "id": "7d68cfea-6032-4f95-97b9-8daa6fee7f9b",
   "metadata": {},
   "outputs": [
    {
     "ename": "SyntaxError",
     "evalue": "invalid syntax (2048914517.py, line 1)",
     "output_type": "error",
     "traceback": [
      "\u001b[1;36m  Cell \u001b[1;32mIn[26], line 1\u001b[1;36m\u001b[0m\n\u001b[1;33m    var$= 56\u001b[0m\n\u001b[1;37m       ^\u001b[0m\n\u001b[1;31mSyntaxError\u001b[0m\u001b[1;31m:\u001b[0m invalid syntax\n"
     ]
    }
   ],
   "source": [
    "var$= 56\n",
    "var$"
   ]
  },
  {
   "cell_type": "code",
   "execution_count": 28,
   "id": "4a110db5-c59f-435e-be7f-cbc8291c4e81",
   "metadata": {},
   "outputs": [
    {
     "ename": "SyntaxError",
     "evalue": "invalid syntax (4272951232.py, line 1)",
     "output_type": "error",
     "traceback": [
      "\u001b[1;36m  Cell \u001b[1;32mIn[28], line 1\u001b[1;36m\u001b[0m\n\u001b[1;33m    var* =45\u001b[0m\n\u001b[1;37m         ^\u001b[0m\n\u001b[1;31mSyntaxError\u001b[0m\u001b[1;31m:\u001b[0m invalid syntax\n"
     ]
    }
   ],
   "source": [
    "var* =45\n",
    "var*"
   ]
  },
  {
   "cell_type": "code",
   "execution_count": 30,
   "id": "90a3f42e-bfa3-4b38-ab11-eab029b13120",
   "metadata": {},
   "outputs": [
    {
     "data": {
      "text/plain": [
       "67"
      ]
     },
     "execution_count": 30,
     "metadata": {},
     "output_type": "execute_result"
    }
   ],
   "source": [
    "var_ = 67\n",
    "var_"
   ]
  },
  {
   "cell_type": "code",
   "execution_count": 32,
   "id": "ddc0145b-078d-4727-9639-d26359e9cc57",
   "metadata": {},
   "outputs": [
    {
     "name": "stdout",
     "output_type": "stream",
     "text": [
      "20\n",
      "30\n"
     ]
    }
   ],
   "source": [
    "x_train , x_test = 20, 30\n",
    "print(x_train)\n",
    "print(x_test)"
   ]
  },
  {
   "cell_type": "code",
   "execution_count": 34,
   "id": "c9961540-dd0c-4796-94e3-ad298d1a4359",
   "metadata": {},
   "outputs": [
    {
     "name": "stdout",
     "output_type": "stream",
     "text": [
      "10 20 30 40\n"
     ]
    }
   ],
   "source": [
    "a , b, c, d = 10,20,30,40\n",
    "print(a, b, c, d)"
   ]
  },
  {
   "cell_type": "code",
   "execution_count": 36,
   "id": "d1266866-414c-4037-897f-84551b7fad22",
   "metadata": {},
   "outputs": [
    {
     "data": {
      "text/plain": [
       "25"
      ]
     },
     "execution_count": 36,
     "metadata": {},
     "output_type": "execute_result"
    }
   ],
   "source": [
    "i = 25\n",
    "i"
   ]
  },
  {
   "cell_type": "code",
   "execution_count": 38,
   "id": "9dbba3e1-4edb-4434-b69e-e3085e418b89",
   "metadata": {},
   "outputs": [
    {
     "data": {
      "text/plain": [
       "int"
      ]
     },
     "execution_count": 38,
     "metadata": {},
     "output_type": "execute_result"
    }
   ],
   "source": [
    "type(i)"
   ]
  },
  {
   "cell_type": "code",
   "execution_count": 40,
   "id": "fc2ca1d5-c870-40be-9e61-36d7605c0110",
   "metadata": {},
   "outputs": [
    {
     "name": "stdout",
     "output_type": "stream",
     "text": [
      "<class 'int'>\n"
     ]
    }
   ],
   "source": [
    "print(type(i))"
   ]
  },
  {
   "cell_type": "code",
   "execution_count": 42,
   "id": "013088df-ee88-4d5a-a258-e4cc9fff5cc3",
   "metadata": {},
   "outputs": [
    {
     "data": {
      "text/plain": [
       "int"
      ]
     },
     "execution_count": 42,
     "metadata": {},
     "output_type": "execute_result"
    }
   ],
   "source": [
    "i = 30\n",
    "type(i)"
   ]
  },
  {
   "cell_type": "code",
   "execution_count": 44,
   "id": "0625b323-843c-4560-90e8-68ef4299e241",
   "metadata": {},
   "outputs": [
    {
     "name": "stdout",
     "output_type": "stream",
     "text": [
      "<class 'int'>\n"
     ]
    }
   ],
   "source": [
    "print(type(i))"
   ]
  },
  {
   "cell_type": "code",
   "execution_count": 46,
   "id": "bf880e0b-1a55-431a-a365-9c5f93567cc6",
   "metadata": {},
   "outputs": [],
   "source": [
    "i1, i2 = 20 , 30"
   ]
  },
  {
   "cell_type": "code",
   "execution_count": 48,
   "id": "29079a7e-5d4d-4eae-846e-e7f28cb7137a",
   "metadata": {},
   "outputs": [
    {
     "data": {
      "text/plain": [
       "80"
      ]
     },
     "execution_count": 48,
     "metadata": {},
     "output_type": "execute_result"
    }
   ],
   "source": [
    "i + i1 + i2"
   ]
  },
  {
   "cell_type": "code",
   "execution_count": 50,
   "id": "98d0b7e9-ef8f-490d-b58c-4590f6860d19",
   "metadata": {},
   "outputs": [
    {
     "data": {
      "text/plain": [
       "-20"
      ]
     },
     "execution_count": 50,
     "metadata": {},
     "output_type": "execute_result"
    }
   ],
   "source": [
    "i - (i2 + i1)"
   ]
  },
  {
   "cell_type": "code",
   "execution_count": 51,
   "id": "a57df2b9-84e3-4985-96dc-bee5da1f099d",
   "metadata": {},
   "outputs": [
    {
     "name": "stdout",
     "output_type": "stream",
     "text": [
      "<class 'float'>\n"
     ]
    }
   ],
   "source": [
    "f = 110.23\n",
    "print(type(f))"
   ]
  },
  {
   "cell_type": "code",
   "execution_count": 52,
   "id": "2eff7df5-6c63-4139-b889-131314a83b26",
   "metadata": {},
   "outputs": [
    {
     "name": "stdout",
     "output_type": "stream",
     "text": [
      "2.3\n",
      "3.4\n",
      "5.1\n"
     ]
    }
   ],
   "source": [
    "f1 , f2 , f3  = 2.3 ,3.4 , 5.1\n",
    "print(f1)\n",
    "print(f2)\n",
    "print(f3)"
   ]
  },
  {
   "cell_type": "code",
   "execution_count": 53,
   "id": "6b64e42b-d464-45c0-8aab-263e4ad038f4",
   "metadata": {},
   "outputs": [],
   "source": [
    "f1 = 1e0"
   ]
  },
  {
   "cell_type": "code",
   "execution_count": 54,
   "id": "debd0b44-f3c3-454c-9bad-57ac761415a6",
   "metadata": {},
   "outputs": [
    {
     "data": {
      "text/plain": [
       "1.0"
      ]
     },
     "execution_count": 54,
     "metadata": {},
     "output_type": "execute_result"
    }
   ],
   "source": [
    "f1"
   ]
  },
  {
   "cell_type": "code",
   "execution_count": 55,
   "id": "07da872b-e443-460d-a9c2-1223af33cece",
   "metadata": {},
   "outputs": [
    {
     "data": {
      "text/plain": [
       "300.0"
      ]
     },
     "execution_count": 55,
     "metadata": {},
     "output_type": "execute_result"
    }
   ],
   "source": [
    "f3 = 3e2\n",
    "f3"
   ]
  },
  {
   "cell_type": "code",
   "execution_count": 56,
   "id": "95bab441-fb8b-4be4-808e-6a679d6383bd",
   "metadata": {},
   "outputs": [
    {
     "data": {
      "text/plain": [
       "3000.0"
      ]
     },
     "execution_count": 56,
     "metadata": {},
     "output_type": "execute_result"
    }
   ],
   "source": [
    "f4 = 3e3\n",
    "f4"
   ]
  },
  {
   "cell_type": "code",
   "execution_count": 57,
   "id": "4881e3e5-5bab-4e32-aea8-a86596bccf90",
   "metadata": {},
   "outputs": [
    {
     "data": {
      "text/plain": [
       "240.0"
      ]
     },
     "execution_count": 57,
     "metadata": {},
     "output_type": "execute_result"
    }
   ],
   "source": [
    "f5 = 2.4e2\n",
    "f5"
   ]
  },
  {
   "cell_type": "code",
   "execution_count": 58,
   "id": "045ba2dc-e91a-4c64-bbfc-31fd06040927",
   "metadata": {},
   "outputs": [],
   "source": [
    "f6 = 2e3"
   ]
  },
  {
   "cell_type": "code",
   "execution_count": 59,
   "id": "e9bb1220-9f98-4d0b-a7e5-3de9ec695608",
   "metadata": {},
   "outputs": [
    {
     "data": {
      "text/plain": [
       "2000.0"
      ]
     },
     "execution_count": 59,
     "metadata": {},
     "output_type": "execute_result"
    }
   ],
   "source": [
    "f6"
   ]
  },
  {
   "cell_type": "code",
   "execution_count": 60,
   "id": "55481804-2773-4d42-90a0-41c83fa8d176",
   "metadata": {},
   "outputs": [],
   "source": [
    "b = True"
   ]
  },
  {
   "cell_type": "code",
   "execution_count": 61,
   "id": "a229e1d7-83dd-4cc6-a920-4926ff6a37b6",
   "metadata": {},
   "outputs": [
    {
     "data": {
      "text/plain": [
       "True"
      ]
     },
     "execution_count": 61,
     "metadata": {},
     "output_type": "execute_result"
    }
   ],
   "source": [
    "b"
   ]
  },
  {
   "cell_type": "code",
   "execution_count": 62,
   "id": "b8fa4b77-ff88-4dad-822b-dbe008de117b",
   "metadata": {},
   "outputs": [
    {
     "data": {
      "text/plain": [
       "False"
      ]
     },
     "execution_count": 62,
     "metadata": {},
     "output_type": "execute_result"
    }
   ],
   "source": [
    "b1 = False\n",
    "b1"
   ]
  },
  {
   "cell_type": "code",
   "execution_count": 63,
   "id": "c2acf308-aa96-4265-8e44-b0bc6f26e39a",
   "metadata": {},
   "outputs": [
    {
     "name": "stdout",
     "output_type": "stream",
     "text": [
      "False True\n"
     ]
    }
   ],
   "source": [
    "print(b1, b)"
   ]
  },
  {
   "cell_type": "code",
   "execution_count": 64,
   "id": "8b495cad-3ce4-4a50-baed-f217dc3b9391",
   "metadata": {},
   "outputs": [
    {
     "data": {
      "text/plain": [
       "1"
      ]
     },
     "execution_count": 64,
     "metadata": {},
     "output_type": "execute_result"
    }
   ],
   "source": [
    "True + False"
   ]
  },
  {
   "cell_type": "code",
   "execution_count": 65,
   "id": "6b86d66e-f953-4dfb-b8a8-4f9b2bfbdd32",
   "metadata": {},
   "outputs": [
    {
     "data": {
      "text/plain": [
       "1"
      ]
     },
     "execution_count": 65,
     "metadata": {},
     "output_type": "execute_result"
    }
   ],
   "source": [
    "True - False"
   ]
  },
  {
   "cell_type": "code",
   "execution_count": 66,
   "id": "d174b05f-e194-479e-9323-a2868d439353",
   "metadata": {},
   "outputs": [
    {
     "data": {
      "text/plain": [
       "-1"
      ]
     },
     "execution_count": 66,
     "metadata": {},
     "output_type": "execute_result"
    }
   ],
   "source": [
    "False - True"
   ]
  },
  {
   "cell_type": "code",
   "execution_count": 67,
   "id": "bc68b819-419d-4f5d-9a8d-ecd16c80c800",
   "metadata": {},
   "outputs": [
    {
     "data": {
      "text/plain": [
       "1"
      ]
     },
     "execution_count": 67,
     "metadata": {},
     "output_type": "execute_result"
    }
   ],
   "source": [
    "True + True + False - True"
   ]
  },
  {
   "cell_type": "code",
   "execution_count": 68,
   "id": "91094148-3040-4481-bd16-1bc920e2f489",
   "metadata": {},
   "outputs": [
    {
     "data": {
      "text/plain": [
       "0"
      ]
     },
     "execution_count": 68,
     "metadata": {},
     "output_type": "execute_result"
    }
   ],
   "source": [
    "False * True"
   ]
  },
  {
   "cell_type": "code",
   "execution_count": 69,
   "id": "4029a16c-ed50-41d6-b31e-a914074d4078",
   "metadata": {},
   "outputs": [
    {
     "data": {
      "text/plain": [
       "1"
      ]
     },
     "execution_count": 69,
     "metadata": {},
     "output_type": "execute_result"
    }
   ],
   "source": [
    "True * True"
   ]
  },
  {
   "cell_type": "code",
   "execution_count": 70,
   "id": "a4af6c4a-2596-4bb1-95db-fdb20410bd52",
   "metadata": {},
   "outputs": [
    {
     "data": {
      "text/plain": [
       "0.0"
      ]
     },
     "execution_count": 70,
     "metadata": {},
     "output_type": "execute_result"
    }
   ],
   "source": [
    "False / True"
   ]
  },
  {
   "cell_type": "code",
   "execution_count": 71,
   "id": "098069e8-617a-4dd0-8dce-e398e489adbf",
   "metadata": {},
   "outputs": [
    {
     "ename": "ZeroDivisionError",
     "evalue": "division by zero",
     "output_type": "error",
     "traceback": [
      "\u001b[1;31m---------------------------------------------------------------------------\u001b[0m",
      "\u001b[1;31mZeroDivisionError\u001b[0m                         Traceback (most recent call last)",
      "Cell \u001b[1;32mIn[71], line 1\u001b[0m\n\u001b[1;32m----> 1\u001b[0m \u001b[38;5;28;01mTrue\u001b[39;00m \u001b[38;5;241m/\u001b[39m \u001b[38;5;28;01mFalse\u001b[39;00m\n",
      "\u001b[1;31mZeroDivisionError\u001b[0m: division by zero"
     ]
    }
   ],
   "source": [
    "True / False"
   ]
  },
  {
   "cell_type": "code",
   "execution_count": 72,
   "id": "386866c4-ba9e-44de-a38d-3d19cab75cdf",
   "metadata": {},
   "outputs": [],
   "source": [
    "c = 10 + 20j"
   ]
  },
  {
   "cell_type": "code",
   "execution_count": 73,
   "id": "ed689809-4eb2-4586-923a-77e684433bbc",
   "metadata": {},
   "outputs": [
    {
     "data": {
      "text/plain": [
       "complex"
      ]
     },
     "execution_count": 73,
     "metadata": {},
     "output_type": "execute_result"
    }
   ],
   "source": [
    "c\n",
    "type(c)"
   ]
  },
  {
   "cell_type": "code",
   "execution_count": 74,
   "id": "eede190b-5303-46a7-8080-fea90bb61fd2",
   "metadata": {},
   "outputs": [
    {
     "name": "stdout",
     "output_type": "stream",
     "text": [
      "<class 'complex'>\n"
     ]
    }
   ],
   "source": [
    "print(type(c))"
   ]
  },
  {
   "cell_type": "code",
   "execution_count": 75,
   "id": "92ffe909-0429-441a-8dd8-095c40545a51",
   "metadata": {},
   "outputs": [
    {
     "data": {
      "text/plain": [
       "['False',\n",
       " 'None',\n",
       " 'True',\n",
       " 'and',\n",
       " 'as',\n",
       " 'assert',\n",
       " 'async',\n",
       " 'await',\n",
       " 'break',\n",
       " 'class',\n",
       " 'continue',\n",
       " 'def',\n",
       " 'del',\n",
       " 'elif',\n",
       " 'else',\n",
       " 'except',\n",
       " 'finally',\n",
       " 'for',\n",
       " 'from',\n",
       " 'global',\n",
       " 'if',\n",
       " 'import',\n",
       " 'in',\n",
       " 'is',\n",
       " 'lambda',\n",
       " 'nonlocal',\n",
       " 'not',\n",
       " 'or',\n",
       " 'pass',\n",
       " 'raise',\n",
       " 'return',\n",
       " 'try',\n",
       " 'while',\n",
       " 'with',\n",
       " 'yield']"
      ]
     },
     "execution_count": 75,
     "metadata": {},
     "output_type": "execute_result"
    }
   ],
   "source": [
    "import keyword\n",
    "keyword.kwlist"
   ]
  },
  {
   "cell_type": "code",
   "execution_count": 76,
   "id": "963bf152-f732-49b9-b85d-fa41eca74756",
   "metadata": {},
   "outputs": [
    {
     "data": {
      "text/plain": [
       "35"
      ]
     },
     "execution_count": 76,
     "metadata": {},
     "output_type": "execute_result"
    }
   ],
   "source": [
    "len(keyword.kwlist)"
   ]
  },
  {
   "cell_type": "code",
   "execution_count": 104,
   "id": "18d0dbcf-e2dd-4520-bc96-57541f673795",
   "metadata": {},
   "outputs": [
    {
     "ename": "SyntaxError",
     "evalue": "invalid syntax (1854681345.py, line 1)",
     "output_type": "error",
     "traceback": [
      "\u001b[1;36m  Cell \u001b[1;32mIn[104], line 1\u001b[1;36m\u001b[0m\n\u001b[1;33m    if = 35\u001b[0m\n\u001b[1;37m       ^\u001b[0m\n\u001b[1;31mSyntaxError\u001b[0m\u001b[1;31m:\u001b[0m invalid syntax\n"
     ]
    }
   ],
   "source": [
    "if = 35\n",
    "if"
   ]
  },
  {
   "cell_type": "code",
   "execution_count": 106,
   "id": "8d3b1f5e-fb85-4609-a789-1aeb030c9bd8",
   "metadata": {},
   "outputs": [],
   "source": [
    "p = 20\n",
    "r = 20\n",
    "q = 20"
   ]
  },
  {
   "cell_type": "code",
   "execution_count": 107,
   "id": "5fb615fc-091c-47c0-880d-172aae4f5acb",
   "metadata": {},
   "outputs": [],
   "source": [
    "p , r , q = 20 , 20 , 20"
   ]
  },
  {
   "cell_type": "code",
   "execution_count": 108,
   "id": "29d327e9-b4ef-4ed1-8891-905a8b6fb64b",
   "metadata": {},
   "outputs": [
    {
     "data": {
      "text/plain": [
       "(10+20j)"
      ]
     },
     "execution_count": 108,
     "metadata": {},
     "output_type": "execute_result"
    }
   ],
   "source": [
    "c"
   ]
  },
  {
   "cell_type": "code",
   "execution_count": 109,
   "id": "86332179-96bf-4194-812b-a98de1fa4636",
   "metadata": {},
   "outputs": [
    {
     "data": {
      "text/plain": [
       "10.0"
      ]
     },
     "execution_count": 109,
     "metadata": {},
     "output_type": "execute_result"
    }
   ],
   "source": [
    "c.real"
   ]
  },
  {
   "cell_type": "code",
   "execution_count": 110,
   "id": "7794f4ff-3a51-43ae-b28d-a3ad02e57602",
   "metadata": {},
   "outputs": [
    {
     "data": {
      "text/plain": [
       "20.0"
      ]
     },
     "execution_count": 110,
     "metadata": {},
     "output_type": "execute_result"
    }
   ],
   "source": [
    "c.imag"
   ]
  },
  {
   "cell_type": "code",
   "execution_count": 111,
   "id": "23ade505-c62c-4e74-9ca1-1dce98e94b2c",
   "metadata": {},
   "outputs": [
    {
     "data": {
      "text/plain": [
       "<function complex.conjugate()>"
      ]
     },
     "execution_count": 111,
     "metadata": {},
     "output_type": "execute_result"
    }
   ],
   "source": [
    "c.conjugate"
   ]
  },
  {
   "cell_type": "code",
   "execution_count": 112,
   "id": "262b363e-1fef-4160-90cd-ab5b0338e0db",
   "metadata": {},
   "outputs": [
    {
     "data": {
      "text/plain": [
       "(40+60j)"
      ]
     },
     "execution_count": 112,
     "metadata": {},
     "output_type": "execute_result"
    }
   ],
   "source": [
    "c1 = 10 + 20j\n",
    "c2 = 30 + 40j\n",
    "c1 + c2"
   ]
  },
  {
   "cell_type": "code",
   "execution_count": 120,
   "id": "d8cf828d-57c5-4549-a636-a4b71fc7c236",
   "metadata": {},
   "outputs": [
    {
     "data": {
      "text/plain": [
       "(-20-20j)"
      ]
     },
     "execution_count": 120,
     "metadata": {},
     "output_type": "execute_result"
    }
   ],
   "source": [
    "c1-c2"
   ]
  },
  {
   "cell_type": "code",
   "execution_count": 122,
   "id": "edda3ff8-efb3-4c77-9a15-80a094a8deaf",
   "metadata": {},
   "outputs": [
    {
     "data": {
      "text/plain": [
       "'nit'"
      ]
     },
     "execution_count": 122,
     "metadata": {},
     "output_type": "execute_result"
    }
   ],
   "source": [
    "s = 'nit'\n",
    "s"
   ]
  },
  {
   "cell_type": "code",
   "execution_count": 123,
   "id": "0c6456d0-9480-4770-b5d9-304369f0cd74",
   "metadata": {},
   "outputs": [],
   "source": [
    "s1 = \"Hello python\"\n",
    "s2 = ''' nit \n",
    "            Hello python'''"
   ]
  },
  {
   "cell_type": "code",
   "execution_count": 124,
   "id": "7c6538a9-3fc5-46a9-b5bf-42877abc80a1",
   "metadata": {},
   "outputs": [
    {
     "name": "stdout",
     "output_type": "stream",
     "text": [
      "<class 'str'>\n",
      "<class 'str'>\n"
     ]
    }
   ],
   "source": [
    "print(type(s1))\n",
    "print(type(s2))"
   ]
  },
  {
   "cell_type": "code",
   "execution_count": 125,
   "id": "3e832054-2dea-4346-84c7-ffea5d164a47",
   "metadata": {},
   "outputs": [
    {
     "data": {
      "text/plain": [
       "' nit \\n            Hello python'"
      ]
     },
     "execution_count": 125,
     "metadata": {},
     "output_type": "execute_result"
    }
   ],
   "source": [
    "s2"
   ]
  },
  {
   "cell_type": "code",
   "execution_count": 126,
   "id": "7824d6c6-a915-4a86-be59-f28c5c21c6f1",
   "metadata": {},
   "outputs": [
    {
     "data": {
      "text/plain": [
       "'H'"
      ]
     },
     "execution_count": 126,
     "metadata": {},
     "output_type": "execute_result"
    }
   ],
   "source": [
    "s1[0]"
   ]
  },
  {
   "cell_type": "code",
   "execution_count": 127,
   "id": "6151b6cc-bdd7-410a-b2e8-1fcebcb5e020",
   "metadata": {},
   "outputs": [
    {
     "data": {
      "text/plain": [
       "'t'"
      ]
     },
     "execution_count": 127,
     "metadata": {},
     "output_type": "execute_result"
    }
   ],
   "source": [
    "s1[-4]"
   ]
  },
  {
   "cell_type": "code",
   "execution_count": 128,
   "id": "6714f14e-f51c-404f-a0b3-4c81ce24efe2",
   "metadata": {},
   "outputs": [
    {
     "data": {
      "text/plain": [
       "'o'"
      ]
     },
     "execution_count": 128,
     "metadata": {},
     "output_type": "execute_result"
    }
   ],
   "source": [
    "s1[4]"
   ]
  },
  {
   "cell_type": "code",
   "execution_count": 129,
   "id": "d931a884-8f4f-440b-8fb7-0a4a4ec46ffe",
   "metadata": {},
   "outputs": [
    {
     "data": {
      "text/plain": [
       "' '"
      ]
     },
     "execution_count": 129,
     "metadata": {},
     "output_type": "execute_result"
    }
   ],
   "source": [
    "s1[5]"
   ]
  },
  {
   "cell_type": "code",
   "execution_count": 130,
   "id": "8d09f102-eaca-4d1b-aa8a-1634b3d95106",
   "metadata": {},
   "outputs": [
    {
     "data": {
      "text/plain": [
       "' '"
      ]
     },
     "execution_count": 130,
     "metadata": {},
     "output_type": "execute_result"
    }
   ],
   "source": [
    "s1[-7]"
   ]
  },
  {
   "cell_type": "code",
   "execution_count": 131,
   "id": "749313c0-5113-48ee-9c1c-420a5bd7ff80",
   "metadata": {},
   "outputs": [
    {
     "name": "stdout",
     "output_type": "stream",
     "text": [
      "n i t\n"
     ]
    }
   ],
   "source": [
    "print(s[0],s[1],s[2])"
   ]
  },
  {
   "cell_type": "code",
   "execution_count": 132,
   "id": "c0c25012-954f-4950-aefd-ffd463927fcd",
   "metadata": {},
   "outputs": [
    {
     "data": {
      "text/plain": [
       "'Hello python'"
      ]
     },
     "execution_count": 132,
     "metadata": {},
     "output_type": "execute_result"
    }
   ],
   "source": [
    "s1"
   ]
  },
  {
   "cell_type": "code",
   "execution_count": 133,
   "id": "83d844f0-e550-4648-be3a-c71029521df8",
   "metadata": {},
   "outputs": [
    {
     "data": {
      "text/plain": [
       "'Hello python'"
      ]
     },
     "execution_count": 133,
     "metadata": {},
     "output_type": "execute_result"
    }
   ],
   "source": [
    "s1[:]"
   ]
  },
  {
   "cell_type": "code",
   "execution_count": 134,
   "id": "34713ea5-f586-4c46-8aaa-60d23cd4f007",
   "metadata": {},
   "outputs": [
    {
     "data": {
      "text/plain": [
       "'llo p'"
      ]
     },
     "execution_count": 134,
     "metadata": {},
     "output_type": "execute_result"
    }
   ],
   "source": [
    "s1[2:7]"
   ]
  },
  {
   "cell_type": "code",
   "execution_count": 135,
   "id": "b7601d33-84d0-4bf2-9a43-b5d9d5af23a5",
   "metadata": {},
   "outputs": [
    {
     "data": {
      "text/plain": [
       "'dataanalyst'"
      ]
     },
     "execution_count": 135,
     "metadata": {},
     "output_type": "execute_result"
    }
   ],
   "source": [
    "s3 = 'dataanalyst'\n",
    "s3"
   ]
  },
  {
   "cell_type": "code",
   "execution_count": 136,
   "id": "aab98d73-befa-40a7-b76e-c68eeb79f58b",
   "metadata": {},
   "outputs": [
    {
     "data": {
      "text/plain": [
       "'dataanalys'"
      ]
     },
     "execution_count": 136,
     "metadata": {},
     "output_type": "execute_result"
    }
   ],
   "source": [
    "s3[0:10]"
   ]
  },
  {
   "cell_type": "code",
   "execution_count": 137,
   "id": "93121221-8f59-4a2d-88b1-77e62c2af3a0",
   "metadata": {},
   "outputs": [
    {
     "data": {
      "text/plain": [
       "'s'"
      ]
     },
     "execution_count": 137,
     "metadata": {},
     "output_type": "execute_result"
    }
   ],
   "source": [
    "s3[9]"
   ]
  },
  {
   "cell_type": "code",
   "execution_count": 138,
   "id": "58732fcc-f7db-4d83-9e4b-3e59a7eba05b",
   "metadata": {},
   "outputs": [
    {
     "data": {
      "text/plain": [
       "'dtaayt'"
      ]
     },
     "execution_count": 138,
     "metadata": {},
     "output_type": "execute_result"
    }
   ],
   "source": [
    "s3[0:11:2]"
   ]
  },
  {
   "cell_type": "code",
   "execution_count": 139,
   "id": "d828625e-9796-471c-8424-ad0c63750ba6",
   "metadata": {},
   "outputs": [
    {
     "data": {
      "text/plain": [
       "'daas'"
      ]
     },
     "execution_count": 139,
     "metadata": {},
     "output_type": "execute_result"
    }
   ],
   "source": [
    "s3[0:11:3]"
   ]
  },
  {
   "cell_type": "code",
   "execution_count": 140,
   "id": "57c4936a-42de-47ad-a91d-922959aea37a",
   "metadata": {},
   "outputs": [
    {
     "data": {
      "text/plain": [
       "'taanaly'"
      ]
     },
     "execution_count": 140,
     "metadata": {},
     "output_type": "execute_result"
    }
   ],
   "source": [
    "s3[2:-2]"
   ]
  },
  {
   "cell_type": "code",
   "execution_count": 141,
   "id": "c6c2c50c-0689-4222-8f41-c3fbc7d852f4",
   "metadata": {},
   "outputs": [
    {
     "name": "stdout",
     "output_type": "stream",
     "text": [
      "nit\n",
      "Hello python\n",
      "dataanalyst\n"
     ]
    }
   ],
   "source": [
    "print(s)\n",
    "print(s1)\n",
    "print(s3)"
   ]
  },
  {
   "cell_type": "code",
   "execution_count": 142,
   "id": "56f64850-794e-42b3-b5bb-703a5857ed50",
   "metadata": {},
   "outputs": [
    {
     "name": "stdout",
     "output_type": "stream",
     "text": [
      "d\n",
      "a\n",
      "t\n",
      "a\n",
      "a\n",
      "n\n",
      "a\n",
      "l\n",
      "y\n",
      "s\n",
      "t\n"
     ]
    }
   ],
   "source": [
    "for i in s3:\n",
    "    print(i)"
   ]
  },
  {
   "cell_type": "code",
   "execution_count": 143,
   "id": "5fd56f7a-e4dc-4c21-a53f-f6f6d405811b",
   "metadata": {},
   "outputs": [
    {
     "ename": "NameError",
     "evalue": "name 'np' is not defined",
     "output_type": "error",
     "traceback": [
      "\u001b[1;31m---------------------------------------------------------------------------\u001b[0m",
      "\u001b[1;31mNameError\u001b[0m                                 Traceback (most recent call last)",
      "Cell \u001b[1;32mIn[143], line 1\u001b[0m\n\u001b[1;32m----> 1\u001b[0m np\u001b[38;5;241m.\u001b[39mnan\n",
      "\u001b[1;31mNameError\u001b[0m: name 'np' is not defined"
     ]
    }
   ],
   "source": [
    "np.nan"
   ]
  },
  {
   "cell_type": "code",
   "execution_count": 144,
   "id": "c8691bd8-a345-4fb9-a275-ef037296b7bf",
   "metadata": {},
   "outputs": [],
   "source": [
    "import numpy as np"
   ]
  },
  {
   "cell_type": "code",
   "execution_count": 145,
   "id": "ff278f19-d090-4bff-96d9-10862e14215c",
   "metadata": {},
   "outputs": [],
   "source": [
    "a = np.nan"
   ]
  },
  {
   "cell_type": "code",
   "execution_count": 146,
   "id": "1cc8ae39-add3-4d92-a7fd-73da854e11f1",
   "metadata": {},
   "outputs": [
    {
     "data": {
      "text/plain": [
       "float"
      ]
     },
     "execution_count": 146,
     "metadata": {},
     "output_type": "execute_result"
    }
   ],
   "source": [
    "type(a)"
   ]
  },
  {
   "cell_type": "code",
   "execution_count": 147,
   "id": "98621833-3ff2-46f0-acd7-24cdc7a71d16",
   "metadata": {},
   "outputs": [
    {
     "data": {
      "text/plain": [
       "3.0"
      ]
     },
     "execution_count": 147,
     "metadata": {},
     "output_type": "execute_result"
    }
   ],
   "source": [
    "float(3)"
   ]
  },
  {
   "cell_type": "code",
   "execution_count": 148,
   "id": "e30f3f89-f492-43f0-9ec6-b34e76374da2",
   "metadata": {
    "jp-MarkdownHeadingCollapsed": true
   },
   "outputs": [
    {
     "data": {
      "text/plain": [
       "2.0"
      ]
     },
     "execution_count": 148,
     "metadata": {},
     "output_type": "execute_result"
    }
   ],
   "source": [
    "float(2)"
   ]
  },
  {
   "cell_type": "code",
   "execution_count": 149,
   "id": "2c3f78dd-d30f-4f29-ac30-0133442f8e2f",
   "metadata": {},
   "outputs": [
    {
     "ename": "TypeError",
     "evalue": "float expected at most 1 argument, got 2",
     "output_type": "error",
     "traceback": [
      "\u001b[1;31m---------------------------------------------------------------------------\u001b[0m",
      "\u001b[1;31mTypeError\u001b[0m                                 Traceback (most recent call last)",
      "Cell \u001b[1;32mIn[149], line 1\u001b[0m\n\u001b[1;32m----> 1\u001b[0m \u001b[38;5;28mfloat\u001b[39m(\u001b[38;5;241m3\u001b[39m,\u001b[38;5;241m4\u001b[39m)\n",
      "\u001b[1;31mTypeError\u001b[0m: float expected at most 1 argument, got 2"
     ]
    }
   ],
   "source": [
    "float(3,4)"
   ]
  },
  {
   "cell_type": "code",
   "execution_count": 150,
   "id": "88b1caaa-6e28-44c9-8a76-f861f037d882",
   "metadata": {},
   "outputs": [
    {
     "data": {
      "text/plain": [
       "10.0"
      ]
     },
     "execution_count": 150,
     "metadata": {},
     "output_type": "execute_result"
    }
   ],
   "source": [
    "float('10')"
   ]
  },
  {
   "cell_type": "code",
   "execution_count": 151,
   "id": "054bf302-2374-4e96-9edb-3de6dde7caa9",
   "metadata": {},
   "outputs": [
    {
     "ename": "TypeError",
     "evalue": "float() argument must be a string or a real number, not 'complex'",
     "output_type": "error",
     "traceback": [
      "\u001b[1;31m---------------------------------------------------------------------------\u001b[0m",
      "\u001b[1;31mTypeError\u001b[0m                                 Traceback (most recent call last)",
      "Cell \u001b[1;32mIn[151], line 1\u001b[0m\n\u001b[1;32m----> 1\u001b[0m \u001b[38;5;28mfloat\u001b[39m(\u001b[38;5;241m1\u001b[39m\u001b[38;5;241m+\u001b[39m\u001b[38;5;241m2\u001b[39mj)\n",
      "\u001b[1;31mTypeError\u001b[0m: float() argument must be a string or a real number, not 'complex'"
     ]
    }
   ],
   "source": [
    "float(1+2j)"
   ]
  },
  {
   "cell_type": "code",
   "execution_count": 152,
   "id": "4dfb9d4d-89d1-428d-8192-6413d115f1e3",
   "metadata": {},
   "outputs": [
    {
     "data": {
      "text/plain": [
       "(10+0j)"
      ]
     },
     "execution_count": 152,
     "metadata": {},
     "output_type": "execute_result"
    }
   ],
   "source": [
    "complex(10)"
   ]
  },
  {
   "cell_type": "code",
   "execution_count": 153,
   "id": "bf09a6c2-f8df-4c1a-8cb7-019c8358a2da",
   "metadata": {},
   "outputs": [
    {
     "data": {
      "text/plain": [
       "(10+20j)"
      ]
     },
     "execution_count": 153,
     "metadata": {},
     "output_type": "execute_result"
    }
   ],
   "source": [
    "complex(10,20)"
   ]
  },
  {
   "cell_type": "code",
   "execution_count": 154,
   "id": "0546cdd4-7848-4593-afc7-0b5c6603673e",
   "metadata": {},
   "outputs": [
    {
     "ename": "TypeError",
     "evalue": "complex() takes at most 2 arguments (3 given)",
     "output_type": "error",
     "traceback": [
      "\u001b[1;31m---------------------------------------------------------------------------\u001b[0m",
      "\u001b[1;31mTypeError\u001b[0m                                 Traceback (most recent call last)",
      "Cell \u001b[1;32mIn[154], line 1\u001b[0m\n\u001b[1;32m----> 1\u001b[0m \u001b[38;5;28mcomplex\u001b[39m(\u001b[38;5;241m10\u001b[39m,\u001b[38;5;241m20\u001b[39m,\u001b[38;5;241m30\u001b[39m)\n",
      "\u001b[1;31mTypeError\u001b[0m: complex() takes at most 2 arguments (3 given)"
     ]
    }
   ],
   "source": [
    "complex(10,20,30)"
   ]
  },
  {
   "cell_type": "code",
   "execution_count": 155,
   "id": "4b5e533b-1119-49ba-aeee-9b94cedfc14d",
   "metadata": {},
   "outputs": [
    {
     "data": {
      "text/plain": [
       "(11.2+10j)"
      ]
     },
     "execution_count": 155,
     "metadata": {},
     "output_type": "execute_result"
    }
   ],
   "source": [
    "complex(11.2,10)"
   ]
  },
  {
   "cell_type": "code",
   "execution_count": 156,
   "id": "8c2fe522-f59d-43e4-a389-1085c7876dfc",
   "metadata": {},
   "outputs": [
    {
     "data": {
      "text/plain": [
       "(1+0j)"
      ]
     },
     "execution_count": 156,
     "metadata": {},
     "output_type": "execute_result"
    }
   ],
   "source": [
    "complex(True)"
   ]
  },
  {
   "cell_type": "code",
   "execution_count": 157,
   "id": "7de2b36b-cd4d-4f5d-89a4-76ba61e1d7bb",
   "metadata": {},
   "outputs": [
    {
     "data": {
      "text/plain": [
       "0j"
      ]
     },
     "execution_count": 157,
     "metadata": {},
     "output_type": "execute_result"
    }
   ],
   "source": [
    "complex(False)"
   ]
  },
  {
   "cell_type": "code",
   "execution_count": 158,
   "id": "0812fdc1-e2ee-45a3-80f8-f3a79a2f0147",
   "metadata": {},
   "outputs": [
    {
     "ename": "ValueError",
     "evalue": "complex() arg is a malformed string",
     "output_type": "error",
     "traceback": [
      "\u001b[1;31m---------------------------------------------------------------------------\u001b[0m",
      "\u001b[1;31mValueError\u001b[0m                                Traceback (most recent call last)",
      "Cell \u001b[1;32mIn[158], line 1\u001b[0m\n\u001b[1;32m----> 1\u001b[0m \u001b[38;5;28mcomplex\u001b[39m(\u001b[38;5;124m'\u001b[39m\u001b[38;5;124mdeepika\u001b[39m\u001b[38;5;124m'\u001b[39m)\n",
      "\u001b[1;31mValueError\u001b[0m: complex() arg is a malformed string"
     ]
    }
   ],
   "source": [
    "complex('deepika')"
   ]
  },
  {
   "cell_type": "code",
   "execution_count": 159,
   "id": "2f69bd5f-14dd-4d6a-b94f-a105285cf750",
   "metadata": {},
   "outputs": [
    {
     "data": {
      "text/plain": [
       "True"
      ]
     },
     "execution_count": 159,
     "metadata": {},
     "output_type": "execute_result"
    }
   ],
   "source": [
    "bool(9)"
   ]
  },
  {
   "cell_type": "code",
   "execution_count": 160,
   "id": "8f25b1ac-ce0e-46ab-8151-d2d3c8f46fca",
   "metadata": {},
   "outputs": [
    {
     "data": {
      "text/plain": [
       "True"
      ]
     },
     "execution_count": 160,
     "metadata": {},
     "output_type": "execute_result"
    }
   ],
   "source": [
    "bool(3+7j)"
   ]
  },
  {
   "cell_type": "code",
   "execution_count": 161,
   "id": "44e29b70-6088-4c92-83ba-287c3f02cbfa",
   "metadata": {},
   "outputs": [
    {
     "data": {
      "text/plain": [
       "True"
      ]
     },
     "execution_count": 161,
     "metadata": {},
     "output_type": "execute_result"
    }
   ],
   "source": [
    "bool('30')"
   ]
  },
  {
   "cell_type": "code",
   "execution_count": 162,
   "id": "e6f62179-3c18-458a-aebe-f26f958b6ffc",
   "metadata": {},
   "outputs": [
    {
     "data": {
      "text/plain": [
       "True"
      ]
     },
     "execution_count": 162,
     "metadata": {},
     "output_type": "execute_result"
    }
   ],
   "source": [
    "bool('true')"
   ]
  },
  {
   "cell_type": "code",
   "execution_count": 163,
   "id": "36bd5414-a2ca-4447-b874-15060b544d0c",
   "metadata": {},
   "outputs": [
    {
     "data": {
      "text/plain": [
       "True"
      ]
     },
     "execution_count": 163,
     "metadata": {},
     "output_type": "execute_result"
    }
   ],
   "source": [
    "bool(2.3)"
   ]
  },
  {
   "cell_type": "code",
   "execution_count": 164,
   "id": "40274268-1b84-4872-a4f2-f864eba0085e",
   "metadata": {},
   "outputs": [
    {
     "data": {
      "text/plain": [
       "False"
      ]
     },
     "execution_count": 164,
     "metadata": {},
     "output_type": "execute_result"
    }
   ],
   "source": [
    "bool()"
   ]
  },
  {
   "cell_type": "code",
   "execution_count": 165,
   "id": "b3095303-006f-4904-aa70-51a24747685d",
   "metadata": {},
   "outputs": [
    {
     "data": {
      "text/plain": [
       "False"
      ]
     },
     "execution_count": 165,
     "metadata": {},
     "output_type": "execute_result"
    }
   ],
   "source": [
    "bool(0+0j)"
   ]
  },
  {
   "cell_type": "code",
   "execution_count": 166,
   "id": "cea144ad-7328-4031-a8be-c26093bb89ca",
   "metadata": {},
   "outputs": [
    {
     "data": {
      "text/plain": [
       "'2'"
      ]
     },
     "execution_count": 166,
     "metadata": {},
     "output_type": "execute_result"
    }
   ],
   "source": [
    "str(2)"
   ]
  },
  {
   "cell_type": "code",
   "execution_count": 167,
   "id": "dc9eedb2-eb2e-4599-9456-933d828039cf",
   "metadata": {},
   "outputs": [
    {
     "data": {
      "text/plain": [
       "'True'"
      ]
     },
     "execution_count": 167,
     "metadata": {},
     "output_type": "execute_result"
    }
   ],
   "source": [
    "str(True)"
   ]
  },
  {
   "cell_type": "code",
   "execution_count": 168,
   "id": "4f79b052-b34f-47b8-97cd-3fcbf364fbd6",
   "metadata": {},
   "outputs": [
    {
     "name": "stdout",
     "output_type": "stream",
     "text": [
      "(5+8j)\n",
      "False\n",
      "8.9\n"
     ]
    }
   ],
   "source": [
    "print(str(5+8j))\n",
    "print(str(False))\n",
    "print(str(8.9))"
   ]
  },
  {
   "cell_type": "code",
   "execution_count": 169,
   "id": "2c7bc5d4-665b-4a32-98e1-0ece78fd69cb",
   "metadata": {},
   "outputs": [
    {
     "data": {
      "text/plain": [
       "'(5+8j)'"
      ]
     },
     "execution_count": 169,
     "metadata": {},
     "output_type": "execute_result"
    }
   ],
   "source": [
    "str(5+8j)"
   ]
  },
  {
   "cell_type": "code",
   "execution_count": 170,
   "id": "a4d0a19e-ebaa-4608-bb91-bb8945fe0473",
   "metadata": {},
   "outputs": [
    {
     "data": {
      "text/plain": [
       "'Hello python'"
      ]
     },
     "execution_count": 170,
     "metadata": {},
     "output_type": "execute_result"
    }
   ],
   "source": [
    "index = 'Hello python'\n",
    "index"
   ]
  },
  {
   "cell_type": "code",
   "execution_count": 171,
   "id": "467928b8-75c5-43a3-bd2d-35a8305096e4",
   "metadata": {},
   "outputs": [
    {
     "data": {
      "text/plain": [
       "'Hello python'"
      ]
     },
     "execution_count": 171,
     "metadata": {},
     "output_type": "execute_result"
    }
   ],
   "source": [
    "index[:]"
   ]
  },
  {
   "cell_type": "code",
   "execution_count": 172,
   "id": "9a9f493d-1e6b-405d-b01c-d27ae196d27f",
   "metadata": {},
   "outputs": [
    {
     "data": {
      "text/plain": [
       "'nohtyp olleH'"
      ]
     },
     "execution_count": 172,
     "metadata": {},
     "output_type": "execute_result"
    }
   ],
   "source": [
    "index[::-1]"
   ]
  },
  {
   "cell_type": "code",
   "execution_count": 173,
   "id": "7231c480-af6f-446e-b505-382d1f6d3e85",
   "metadata": {},
   "outputs": [
    {
     "data": {
      "text/plain": [
       "'nhy le'"
      ]
     },
     "execution_count": 173,
     "metadata": {},
     "output_type": "execute_result"
    }
   ],
   "source": [
    "index[::-2]"
   ]
  },
  {
   "cell_type": "code",
   "execution_count": 174,
   "id": "741cca4a-ba8e-4722-939b-d70ba61b6d0c",
   "metadata": {},
   "outputs": [
    {
     "data": {
      "image/png": "[encoded data removed]",
      "text/plain": [
       "<Figure size 640x480 with 1 Axes>"
      ]
     },
     "metadata": {},
     "output_type": "display_data"
    }
   ],
   "source": [
    "import matplotlib.pyplot as plt\n",
    "plt.plot([1, 8 , 27 , 64])\n",
    "plt.ylabel('Numbers')\n",
    "plt.show()"
   ]
  },
  {
   "cell_type": "code",
   "execution_count": 175,
   "id": "b194db5e-b409-4b07-97a4-8dada84fca3c",
   "metadata": {},
   "outputs": [],
   "source": [
    "l = []"
   ]
  },
  {
   "cell_type": "code",
   "execution_count": 176,
   "id": "1ff9e841-aa6e-48f9-86fa-86b515c84d6b",
   "metadata": {},
   "outputs": [
    {
     "data": {
      "text/plain": [
       "[]"
      ]
     },
     "execution_count": 176,
     "metadata": {},
     "output_type": "execute_result"
    }
   ],
   "source": [
    "l"
   ]
  },
  {
   "cell_type": "code",
   "execution_count": 177,
   "id": "7069a124-0e73-46cf-887c-e9ce8737922b",
   "metadata": {},
   "outputs": [
    {
     "data": {
      "text/plain": [
       "list"
      ]
     },
     "execution_count": 177,
     "metadata": {},
     "output_type": "execute_result"
    }
   ],
   "source": [
    "type(l)"
   ]
  },
  {
   "cell_type": "code",
   "execution_count": 178,
   "id": "695da602-9854-4e28-bacb-614f8c096544",
   "metadata": {},
   "outputs": [],
   "source": [
    "l.append(10)"
   ]
  },
  {
   "cell_type": "code",
   "execution_count": 179,
   "id": "cbd5f58b-881f-4cee-8ef7-9018e31bd7d8",
   "metadata": {},
   "outputs": [
    {
     "data": {
      "text/plain": [
       "[10]"
      ]
     },
     "execution_count": 179,
     "metadata": {},
     "output_type": "execute_result"
    }
   ],
   "source": [
    "l"
   ]
  },
  {
   "cell_type": "code",
   "execution_count": 180,
   "id": "8d863d18-91ec-4ebd-938f-a220de6d75b0",
   "metadata": {},
   "outputs": [],
   "source": [
    "l.append(20)\n",
    "l.append(30)"
   ]
  },
  {
   "cell_type": "code",
   "execution_count": 181,
   "id": "36003766-9923-4a45-8bc0-b42523bbee0e",
   "metadata": {},
   "outputs": [
    {
     "data": {
      "text/plain": [
       "[10, 20, 30]"
      ]
     },
     "execution_count": 181,
     "metadata": {},
     "output_type": "execute_result"
    }
   ],
   "source": [
    "l"
   ]
  },
  {
   "cell_type": "code",
   "execution_count": 182,
   "id": "ac8017dd-bbae-4eb4-a1dd-21da8bc7d894",
   "metadata": {},
   "outputs": [],
   "source": [
    "l.append(3.6)"
   ]
  },
  {
   "cell_type": "code",
   "execution_count": 183,
   "id": "af0653a5-eee9-4c39-8747-3ba96657c7f6",
   "metadata": {},
   "outputs": [
    {
     "data": {
      "text/plain": [
       "[10, 20, 30, 3.6]"
      ]
     },
     "execution_count": 183,
     "metadata": {},
     "output_type": "execute_result"
    }
   ],
   "source": [
    "l"
   ]
  },
  {
   "cell_type": "code",
   "execution_count": 184,
   "id": "04eca8b1-1b93-423c-8bd3-ddeb744351a7",
   "metadata": {},
   "outputs": [],
   "source": [
    "l.append(1+2j)\n",
    "l.append(True)\n",
    "l.append('nit')"
   ]
  },
  {
   "cell_type": "code",
   "execution_count": 185,
   "id": "039baf01-8427-4c18-b642-d028b1fa7bca",
   "metadata": {},
   "outputs": [
    {
     "data": {
      "text/plain": [
       "[10, 20, 30, 3.6, (1+2j), True, 'nit']"
      ]
     },
     "execution_count": 185,
     "metadata": {},
     "output_type": "execute_result"
    }
   ],
   "source": [
    "l"
   ]
  },
  {
   "cell_type": "code",
   "execution_count": 186,
   "id": "bf2d5edb-5e9d-4067-8ac0-a0dd372745fb",
   "metadata": {},
   "outputs": [
    {
     "data": {
      "text/plain": [
       "7"
      ]
     },
     "execution_count": 186,
     "metadata": {},
     "output_type": "execute_result"
    }
   ],
   "source": [
    "len(l)"
   ]
  },
  {
   "cell_type": "code",
   "execution_count": 187,
   "id": "8ede728b-9156-4a32-ba85-d640880eec67",
   "metadata": {},
   "outputs": [
    {
     "name": "stdout",
     "output_type": "stream",
     "text": [
      "<class 'int'>\n",
      "<class 'list'>\n"
     ]
    }
   ],
   "source": [
    "n = 67\n",
    "print(type(n))\n",
    "n1 = [1,2]\n",
    "print(type(n1))"
   ]
  },
  {
   "cell_type": "code",
   "execution_count": 188,
   "id": "4cd29458-6145-49b6-8e04-9ae224addddf",
   "metadata": {},
   "outputs": [
    {
     "data": {
      "text/plain": [
       "[10, 20, 30, 3.6, (1+2j), True, 'nit', 10]"
      ]
     },
     "execution_count": 188,
     "metadata": {},
     "output_type": "execute_result"
    }
   ],
   "source": [
    "l.append(10)\n",
    "l"
   ]
  },
  {
   "cell_type": "code",
   "execution_count": 189,
   "id": "9e9e56bc-e06b-4840-89b4-1d86cc236c1b",
   "metadata": {},
   "outputs": [
    {
     "data": {
      "text/plain": [
       "[20, 30, 3.6, (1+2j), True, 'nit', 10]"
      ]
     },
     "execution_count": 189,
     "metadata": {},
     "output_type": "execute_result"
    }
   ],
   "source": [
    "l.remove(10)\n",
    "l"
   ]
  },
  {
   "cell_type": "code",
   "execution_count": 190,
   "id": "ce471bc3-0ea6-477a-8f68-ba6d34284202",
   "metadata": {},
   "outputs": [
    {
     "data": {
      "text/plain": [
       "[20, 30, 3.6, (1+2j), True, 'nit', 10, 20, 20]"
      ]
     },
     "execution_count": 190,
     "metadata": {},
     "output_type": "execute_result"
    }
   ],
   "source": [
    "l.append(20)\n",
    "l.append(20)\n",
    "l"
   ]
  },
  {
   "cell_type": "code",
   "execution_count": 191,
   "id": "921ed7a0-b447-4091-bcd5-1d3ac8a212c4",
   "metadata": {},
   "outputs": [
    {
     "data": {
      "text/plain": [
       "[30, 3.6, (1+2j), True, 'nit', 10, 20, 20]"
      ]
     },
     "execution_count": 191,
     "metadata": {},
     "output_type": "execute_result"
    }
   ],
   "source": [
    "l.remove(20)\n",
    "l"
   ]
  },
  {
   "cell_type": "code",
   "execution_count": 192,
   "id": "4896dd00-cc4f-423b-b7f2-64aac76065c8",
   "metadata": {},
   "outputs": [],
   "source": [
    "l1=l.copy()"
   ]
  },
  {
   "cell_type": "code",
   "execution_count": 193,
   "id": "a44016c1-53f3-4f57-9aa5-ff139ea7d480",
   "metadata": {},
   "outputs": [
    {
     "data": {
      "text/plain": [
       "[30, 3.6, (1+2j), True, 'nit', 10, 20, 20]"
      ]
     },
     "execution_count": 193,
     "metadata": {},
     "output_type": "execute_result"
    }
   ],
   "source": [
    "l1"
   ]
  },
  {
   "cell_type": "code",
   "execution_count": 194,
   "id": "17f22861-0b03-4392-90ca-12867e4f3b85",
   "metadata": {},
   "outputs": [
    {
     "data": {
      "text/plain": [
       "8"
      ]
     },
     "execution_count": 194,
     "metadata": {},
     "output_type": "execute_result"
    }
   ],
   "source": [
    "len(l1)"
   ]
  },
  {
   "cell_type": "code",
   "execution_count": 195,
   "id": "2c4422c2-be0a-4d80-befe-adcae7328484",
   "metadata": {},
   "outputs": [
    {
     "data": {
      "text/plain": [
       "True"
      ]
     },
     "execution_count": 195,
     "metadata": {},
     "output_type": "execute_result"
    }
   ],
   "source": [
    "l == l1  #to compare two lists we use =="
   ]
  },
  {
   "cell_type": "code",
   "execution_count": 196,
   "id": "b1c37e4c-12f7-4356-b92f-f238de8a88e0",
   "metadata": {},
   "outputs": [
    {
     "data": {
      "text/plain": [
       "2"
      ]
     },
     "execution_count": 196,
     "metadata": {},
     "output_type": "execute_result"
    }
   ],
   "source": [
    "l.count(20)"
   ]
  },
  {
   "cell_type": "code",
   "execution_count": 197,
   "id": "371cfe43-caf8-4727-89b9-3a31f8d9c9ff",
   "metadata": {},
   "outputs": [
    {
     "data": {
      "text/plain": [
       "[30, 3.6, (1+2j), True, 'nit', 10, 20, 20]"
      ]
     },
     "execution_count": 197,
     "metadata": {},
     "output_type": "execute_result"
    }
   ],
   "source": [
    "l[4]\n",
    "l"
   ]
  },
  {
   "cell_type": "code",
   "execution_count": 198,
   "id": "d3747d4a-7831-4358-8c24-ebe4e41d0c56",
   "metadata": {},
   "outputs": [
    {
     "data": {
      "text/plain": [
       "[30, 3.6, (1+2j), True]"
      ]
     },
     "execution_count": 198,
     "metadata": {},
     "output_type": "execute_result"
    }
   ],
   "source": [
    "l[:4]"
   ]
  },
  {
   "cell_type": "code",
   "execution_count": 199,
   "id": "26479b21-b9bf-4687-a8e2-defa5cfcd56e",
   "metadata": {},
   "outputs": [
    {
     "data": {
      "text/plain": [
       "[]"
      ]
     },
     "execution_count": 199,
     "metadata": {},
     "output_type": "execute_result"
    }
   ],
   "source": [
    "l2 = []\n",
    "l2"
   ]
  },
  {
   "cell_type": "code",
   "execution_count": 200,
   "id": "56df5dad-a30d-488c-8785-9455d0789902",
   "metadata": {},
   "outputs": [],
   "source": [
    "l2.append(1)\n",
    "l2.append(2.3)\n",
    "l2.append(True)\n",
    "l2.append(1+2j)\n",
    "l2.append('nit')"
   ]
  },
  {
   "cell_type": "code",
   "execution_count": 201,
   "id": "819034d3-9d98-467b-a7aa-c95537f2e23d",
   "metadata": {},
   "outputs": [
    {
     "data": {
      "text/plain": [
       "[1, 2.3, True, (1+2j), 'nit']"
      ]
     },
     "execution_count": 201,
     "metadata": {},
     "output_type": "execute_result"
    }
   ],
   "source": [
    "l2"
   ]
  },
  {
   "cell_type": "code",
   "execution_count": 202,
   "id": "9d246bdf-da87-46e8-8bab-dae4ad642cdc",
   "metadata": {},
   "outputs": [],
   "source": [
    "l3 = l2.copy()"
   ]
  },
  {
   "cell_type": "code",
   "execution_count": 203,
   "id": "d5303c0d-1850-4ada-8dbb-cc725f714e71",
   "metadata": {},
   "outputs": [
    {
     "data": {
      "text/plain": [
       "5"
      ]
     },
     "execution_count": 203,
     "metadata": {},
     "output_type": "execute_result"
    }
   ],
   "source": [
    "len(l3)"
   ]
  },
  {
   "cell_type": "code",
   "execution_count": 204,
   "id": "7ca538cf-77fc-450d-bcef-fb981ba33c1b",
   "metadata": {},
   "outputs": [
    {
     "data": {
      "text/plain": [
       "[1, 2.3, True, (1+2j), 'nit']"
      ]
     },
     "execution_count": 204,
     "metadata": {},
     "output_type": "execute_result"
    }
   ],
   "source": [
    "l3"
   ]
  },
  {
   "cell_type": "code",
   "execution_count": 205,
   "id": "830b01ed-dc8e-43a0-8b55-41c82bb16324",
   "metadata": {},
   "outputs": [],
   "source": [
    "l3.clear()"
   ]
  },
  {
   "cell_type": "code",
   "execution_count": 206,
   "id": "27ddb2c3-e983-4682-bcf0-72db6970e877",
   "metadata": {},
   "outputs": [
    {
     "data": {
      "text/plain": [
       "[]"
      ]
     },
     "execution_count": 206,
     "metadata": {},
     "output_type": "execute_result"
    }
   ],
   "source": [
    "l3"
   ]
  },
  {
   "cell_type": "code",
   "execution_count": 239,
   "id": "21693677-f9ef-4e79-a455-44a43f2c3b0d",
   "metadata": {},
   "outputs": [],
   "source": [
    "del l3"
   ]
  },
  {
   "cell_type": "code",
   "execution_count": 252,
   "id": "256485f4-9a93-4459-9473-c7a4cb05bb23",
   "metadata": {},
   "outputs": [
    {
     "data": {
      "text/plain": [
       "[1, 2.3, True, (1+2j), 'nit']"
      ]
     },
     "execution_count": 252,
     "metadata": {},
     "output_type": "execute_result"
    }
   ],
   "source": [
    "l2"
   ]
  },
  {
   "cell_type": "code",
   "execution_count": 263,
   "id": "b15d7327-c9c7-4f85-88c1-81afe6df98d8",
   "metadata": {},
   "outputs": [
    {
     "ename": "NameError",
     "evalue": "name 'l3' is not defined",
     "output_type": "error",
     "traceback": [
      "\u001b[1;31m---------------------------------------------------------------------------\u001b[0m",
      "\u001b[1;31mNameError\u001b[0m                                 Traceback (most recent call last)",
      "Cell \u001b[1;32mIn[263], line 1\u001b[0m\n\u001b[1;32m----> 1\u001b[0m l3\n",
      "\u001b[1;31mNameError\u001b[0m: name 'l3' is not defined"
     ]
    }
   ],
   "source": [
    "l3"
   ]
  },
  {
   "cell_type": "code",
   "execution_count": 278,
   "id": "6a2d60b4-bdca-432d-aa41-7a9916bac59a",
   "metadata": {},
   "outputs": [],
   "source": [
    "l2.remove(2.3)"
   ]
  },
  {
   "cell_type": "code",
   "execution_count": 287,
   "id": "a03b46a9-9dc1-4b1a-9873-845baffe4e34",
   "metadata": {},
   "outputs": [
    {
     "data": {
      "text/plain": [
       "[1, True, (1+2j), 'nit']"
      ]
     },
     "execution_count": 287,
     "metadata": {},
     "output_type": "execute_result"
    }
   ],
   "source": [
    "l2"
   ]
  },
  {
   "cell_type": "code",
   "execution_count": 297,
   "id": "a1a5e904-0eb6-40cc-947c-bd01c51127a2",
   "metadata": {},
   "outputs": [
    {
     "data": {
      "text/plain": [
       "[10]"
      ]
     },
     "execution_count": 297,
     "metadata": {},
     "output_type": "execute_result"
    }
   ],
   "source": [
    "l3=[]\n",
    "l3.append(10)\n",
    "l3"
   ]
  },
  {
   "cell_type": "code",
   "execution_count": 301,
   "id": "44569b0d-a263-46a1-80e3-21282656ecc5",
   "metadata": {},
   "outputs": [
    {
     "data": {
      "text/plain": [
       "[1, True, (1+2j), 'nit', 1]"
      ]
     },
     "execution_count": 301,
     "metadata": {},
     "output_type": "execute_result"
    }
   ],
   "source": [
    "l2.append(1)\n",
    "l2"
   ]
  },
  {
   "cell_type": "code",
   "execution_count": 305,
   "id": "def44607-ff56-4b48-a5ff-c6baa8ed5e80",
   "metadata": {},
   "outputs": [],
   "source": [
    "l3.extend(l2)"
   ]
  },
  {
   "cell_type": "code",
   "execution_count": 308,
   "id": "658d0d6c-7fe6-41dd-ac09-ad36f5566a82",
   "metadata": {},
   "outputs": [
    {
     "data": {
      "text/plain": [
       "[10, 1, True, (1+2j), 'nit', 1]"
      ]
     },
     "execution_count": 308,
     "metadata": {},
     "output_type": "execute_result"
    }
   ],
   "source": [
    "l3"
   ]
  },
  {
   "cell_type": "code",
   "execution_count": 310,
   "id": "f9f6d410-2e9b-429f-b1dc-ece99923bb7d",
   "metadata": {},
   "outputs": [
    {
     "data": {
      "text/plain": [
       "3"
      ]
     },
     "execution_count": 310,
     "metadata": {},
     "output_type": "execute_result"
    }
   ],
   "source": [
    "l3.index(1+2j)"
   ]
  },
  {
   "cell_type": "code",
   "execution_count": 312,
   "id": "4c507ceb-62ec-427c-951e-fdcc272408ca",
   "metadata": {},
   "outputs": [
    {
     "data": {
      "text/plain": [
       "[10, 1, True, (1+2j), 'nit', 1]"
      ]
     },
     "execution_count": 312,
     "metadata": {},
     "output_type": "execute_result"
    }
   ],
   "source": [
    "l3"
   ]
  },
  {
   "cell_type": "code",
   "execution_count": 314,
   "id": "c73999f6-1201-4f9e-babb-739707594df1",
   "metadata": {},
   "outputs": [
    {
     "data": {
      "text/plain": [
       "[1, True, (1+2j), 'nit', 1]"
      ]
     },
     "execution_count": 314,
     "metadata": {},
     "output_type": "execute_result"
    }
   ],
   "source": [
    "l2"
   ]
  },
  {
   "cell_type": "code",
   "execution_count": 316,
   "id": "701df4d7-28ee-4d38-b02f-0619bace2019",
   "metadata": {},
   "outputs": [
    {
     "data": {
      "text/plain": [
       "3"
      ]
     },
     "execution_count": 316,
     "metadata": {},
     "output_type": "execute_result"
    }
   ],
   "source": [
    "l2.index('nit')"
   ]
  },
  {
   "cell_type": "code",
   "execution_count": 318,
   "id": "fb5a744b-efdd-4842-9706-15e5c7941fa9",
   "metadata": {},
   "outputs": [],
   "source": [
    "l3.insert(5, 'technology')"
   ]
  },
  {
   "cell_type": "code",
   "execution_count": 320,
   "id": "03f31549-6f10-4348-a40f-901b6017e004",
   "metadata": {},
   "outputs": [
    {
     "data": {
      "text/plain": [
       "[10, 1, True, (1+2j), 'nit', 'technology', 1]"
      ]
     },
     "execution_count": 320,
     "metadata": {},
     "output_type": "execute_result"
    }
   ],
   "source": [
    "l3"
   ]
  },
  {
   "cell_type": "code",
   "execution_count": 322,
   "id": "45d155b2-6493-4cd9-a46b-48e9535790f2",
   "metadata": {},
   "outputs": [],
   "source": [
    "l3.insert(3,False)"
   ]
  },
  {
   "cell_type": "code",
   "execution_count": 324,
   "id": "fecbedca-023e-4c67-8996-a3a9607fb6b6",
   "metadata": {},
   "outputs": [
    {
     "data": {
      "text/plain": [
       "[10, 1, True, False, (1+2j), 'nit', 'technology', 1]"
      ]
     },
     "execution_count": 324,
     "metadata": {},
     "output_type": "execute_result"
    }
   ],
   "source": [
    "l3"
   ]
  },
  {
   "cell_type": "code",
   "execution_count": 326,
   "id": "076006ec-f4b1-4aec-9e44-bfc148fc31b0",
   "metadata": {},
   "outputs": [
    {
     "data": {
      "text/plain": [
       "[10, 1, True, False, (1+2j), 'nit', 'technology']"
      ]
     },
     "execution_count": 326,
     "metadata": {},
     "output_type": "execute_result"
    }
   ],
   "source": [
    "l3.pop()\n",
    "l3"
   ]
  },
  {
   "cell_type": "code",
   "execution_count": 328,
   "id": "eabd0d68-7724-4c25-b9dd-3f71676bf46e",
   "metadata": {},
   "outputs": [
    {
     "data": {
      "text/plain": [
       "(1+2j)"
      ]
     },
     "execution_count": 328,
     "metadata": {},
     "output_type": "execute_result"
    }
   ],
   "source": [
    "l3.pop(4)"
   ]
  },
  {
   "cell_type": "code",
   "execution_count": 330,
   "id": "ddcb1f88-0961-4ee2-80fa-042f5e8f0a97",
   "metadata": {},
   "outputs": [
    {
     "data": {
      "text/plain": [
       "1"
      ]
     },
     "execution_count": 330,
     "metadata": {},
     "output_type": "execute_result"
    }
   ],
   "source": [
    "l3.pop(1)"
   ]
  },
  {
   "cell_type": "code",
   "execution_count": 331,
   "id": "6393e07b-a9e0-4c77-9110-9dfcfbe14361",
   "metadata": {},
   "outputs": [
    {
     "data": {
      "text/plain": [
       "[10, 100, 3, 45, 76, 24]"
      ]
     },
     "execution_count": 331,
     "metadata": {},
     "output_type": "execute_result"
    }
   ],
   "source": [
    "l4 = [10,100 , 3 , 45 , 76 ,24]\n",
    "l4"
   ]
  },
  {
   "cell_type": "code",
   "execution_count": 332,
   "id": "cca2ccf8-2cda-49f3-9b2c-9dd0470004b5",
   "metadata": {},
   "outputs": [
    {
     "data": {
      "text/plain": [
       "[3, 10, 24, 45, 76, 100]"
      ]
     },
     "execution_count": 332,
     "metadata": {},
     "output_type": "execute_result"
    }
   ],
   "source": [
    "l4.sort()\n",
    "l4"
   ]
  },
  {
   "cell_type": "code",
   "execution_count": 333,
   "id": "646e8a91-7afe-448c-9257-ede3a394976c",
   "metadata": {},
   "outputs": [
    {
     "data": {
      "text/plain": [
       "[100, 76, 45, 24, 10, 3]"
      ]
     },
     "execution_count": 333,
     "metadata": {},
     "output_type": "execute_result"
    }
   ],
   "source": [
    "l4.sort(reverse=True)\n",
    "l4"
   ]
  },
  {
   "cell_type": "code",
   "execution_count": 334,
   "id": "ade1cbd6-6f58-4c26-833a-22fe64e5e2b0",
   "metadata": {},
   "outputs": [
    {
     "data": {
      "text/plain": [
       "['z', 'm', 'c', 'w']"
      ]
     },
     "execution_count": 334,
     "metadata": {},
     "output_type": "execute_result"
    }
   ],
   "source": [
    "l5 = ['z', 'm', 'c', 'w']\n",
    "l5"
   ]
  },
  {
   "cell_type": "code",
   "execution_count": 335,
   "id": "f71f0b89-5f21-44f4-ab9e-f9a70d1305bd",
   "metadata": {},
   "outputs": [
    {
     "data": {
      "text/plain": [
       "['c', 'm', 'w', 'z']"
      ]
     },
     "execution_count": 335,
     "metadata": {},
     "output_type": "execute_result"
    }
   ],
   "source": [
    "l5.sort()\n",
    "l5"
   ]
  },
  {
   "cell_type": "code",
   "execution_count": 336,
   "id": "95820dcb-d4e0-4551-b33a-ba5e917c29bc",
   "metadata": {},
   "outputs": [
    {
     "data": {
      "text/plain": [
       "[1, 2, 3, 'a', 'z', 'w']"
      ]
     },
     "execution_count": 336,
     "metadata": {},
     "output_type": "execute_result"
    }
   ],
   "source": [
    "l6 =[1, 2, 3,'a', 'z' ,'w']\n",
    "l6"
   ]
  },
  {
   "cell_type": "code",
   "execution_count": 337,
   "id": "875b6258-3188-4988-944c-1b32cd2db60a",
   "metadata": {},
   "outputs": [
    {
     "ename": "TypeError",
     "evalue": "'<' not supported between instances of 'str' and 'int'",
     "output_type": "error",
     "traceback": [
      "\u001b[1;31m---------------------------------------------------------------------------\u001b[0m",
      "\u001b[1;31mTypeError\u001b[0m                                 Traceback (most recent call last)",
      "Cell \u001b[1;32mIn[337], line 1\u001b[0m\n\u001b[1;32m----> 1\u001b[0m l6\u001b[38;5;241m.\u001b[39msort()\n",
      "\u001b[1;31mTypeError\u001b[0m: '<' not supported between instances of 'str' and 'int'"
     ]
    }
   ],
   "source": [
    "l6.sort()"
   ]
  },
  {
   "cell_type": "code",
   "execution_count": 338,
   "id": "ad5ec744-55a9-46e9-9036-a2756040cd36",
   "metadata": {},
   "outputs": [
    {
     "data": {
      "text/plain": [
       "[10, True, False, 'nit', 'technology']"
      ]
     },
     "execution_count": 338,
     "metadata": {},
     "output_type": "execute_result"
    }
   ],
   "source": [
    "l3"
   ]
  },
  {
   "cell_type": "code",
   "execution_count": 339,
   "id": "9d7ce0ba-75cb-456e-9ce8-f9725b6a6815",
   "metadata": {},
   "outputs": [
    {
     "data": {
      "text/plain": [
       "['technology', 'nit', False, True, 10]"
      ]
     },
     "execution_count": 339,
     "metadata": {},
     "output_type": "execute_result"
    }
   ],
   "source": [
    "l3.reverse()\n",
    "l3"
   ]
  },
  {
   "cell_type": "code",
   "execution_count": 340,
   "id": "5a6c8240-2096-4fe2-838f-8e42ca7181ef",
   "metadata": {},
   "outputs": [
    {
     "data": {
      "text/plain": [
       "[1, True, (1+2j), 'nit', 1]"
      ]
     },
     "execution_count": 340,
     "metadata": {},
     "output_type": "execute_result"
    }
   ],
   "source": [
    "l2"
   ]
  },
  {
   "cell_type": "code",
   "execution_count": 341,
   "id": "dc8a8f36-6a16-4224-9cb3-1f3d371993ec",
   "metadata": {},
   "outputs": [
    {
     "data": {
      "text/plain": [
       "'nit'"
      ]
     },
     "execution_count": 341,
     "metadata": {},
     "output_type": "execute_result"
    }
   ],
   "source": [
    "l2[3]"
   ]
  },
  {
   "cell_type": "code",
   "execution_count": 342,
   "id": "4ceebc57-e722-4869-af24-b5376460b451",
   "metadata": {},
   "outputs": [
    {
     "name": "stdout",
     "output_type": "stream",
     "text": [
      "n\n",
      "i\n",
      "t\n"
     ]
    }
   ],
   "source": [
    "print(l2[3][0])\n",
    "print(l2[3][1])\n",
    "print(l2[3][2])"
   ]
  },
  {
   "cell_type": "code",
   "execution_count": 343,
   "id": "304dcaca-db6e-4fc3-8d6c-6f51b14706dc",
   "metadata": {},
   "outputs": [
    {
     "data": {
      "text/plain": [
       "[1, True, (1+2j), 'nit', 1]"
      ]
     },
     "execution_count": 343,
     "metadata": {},
     "output_type": "execute_result"
    }
   ],
   "source": [
    "l2"
   ]
  },
  {
   "cell_type": "code",
   "execution_count": 344,
   "id": "33908c60-2c83-4b15-b807-cfb287396066",
   "metadata": {},
   "outputs": [
    {
     "data": {
      "text/plain": [
       "['technology', 'nit', False, True, 10]"
      ]
     },
     "execution_count": 344,
     "metadata": {},
     "output_type": "execute_result"
    }
   ],
   "source": [
    "l3"
   ]
  },
  {
   "cell_type": "code",
   "execution_count": 345,
   "id": "21c00dcf-1512-44bc-ae90-c5c7c7893be4",
   "metadata": {},
   "outputs": [],
   "source": [
    "l3[2]=0"
   ]
  },
  {
   "cell_type": "code",
   "execution_count": 346,
   "id": "85df5b2d-c535-4cc2-ae86-6fbc016ad2e6",
   "metadata": {},
   "outputs": [
    {
     "data": {
      "text/plain": [
       "['technology', 'nit', 0, True, 10]"
      ]
     },
     "execution_count": 346,
     "metadata": {},
     "output_type": "execute_result"
    }
   ],
   "source": [
    "l3"
   ]
  },
  {
   "cell_type": "code",
   "execution_count": 347,
   "id": "d0c4bd5a-8ae3-405e-949e-88010e2b24bb",
   "metadata": {},
   "outputs": [
    {
     "name": "stdout",
     "output_type": "stream",
     "text": [
      "technology\n",
      "nit\n",
      "0\n",
      "True\n",
      "10\n"
     ]
    }
   ],
   "source": [
    "for i in l3:\n",
    "    print(i)"
   ]
  },
  {
   "cell_type": "code",
   "execution_count": 348,
   "id": "63ceb7a6-92d1-4672-acc7-5ecafd8ac716",
   "metadata": {},
   "outputs": [],
   "source": [
    "l6=['sbi', 'icici']\n",
    "l7=['hdfc', 'kotak']"
   ]
  },
  {
   "cell_type": "code",
   "execution_count": 349,
   "id": "f3cddc23-4296-46ef-9d7d-d5188bc9a222",
   "metadata": {},
   "outputs": [
    {
     "data": {
      "text/plain": [
       "['sbi', 'icici', 'hdfc', 'kotak']"
      ]
     },
     "execution_count": 349,
     "metadata": {},
     "output_type": "execute_result"
    }
   ],
   "source": [
    "family_bankacc= l6+l7\n",
    "family_bankacc"
   ]
  },
  {
   "cell_type": "code",
   "execution_count": 350,
   "id": "5a318773-8613-45b4-93f6-6b739aacb5f1",
   "metadata": {},
   "outputs": [
    {
     "data": {
      "text/plain": [
       "['technology', 'nit', 0, True, 10]"
      ]
     },
     "execution_count": 350,
     "metadata": {},
     "output_type": "execute_result"
    }
   ],
   "source": [
    "l3"
   ]
  },
  {
   "cell_type": "code",
   "execution_count": 351,
   "id": "5d56ef7e-d274-4958-a7f5-78629942b76b",
   "metadata": {},
   "outputs": [
    {
     "name": "stdout",
     "output_type": "stream",
     "text": [
      "(0, 'technology')\n",
      "(1, 'nit')\n",
      "(2, 0)\n",
      "(3, True)\n",
      "(4, 10)\n"
     ]
    }
   ],
   "source": [
    "for i in enumerate(l3):\n",
    "    print(i)"
   ]
  },
  {
   "cell_type": "code",
   "execution_count": 352,
   "id": "d8d7e3f8-6477-4214-9378-5d0203bbfad9",
   "metadata": {},
   "outputs": [
    {
     "data": {
      "text/plain": [
       "[30, 3.6, (1+2j), True, 'nit', 10, 20, 20]"
      ]
     },
     "execution_count": 352,
     "metadata": {},
     "output_type": "execute_result"
    }
   ],
   "source": [
    "l"
   ]
  },
  {
   "cell_type": "code",
   "execution_count": 404,
   "id": "72ec52fa-48a4-4586-a484-3c7ff742ed77",
   "metadata": {},
   "outputs": [
    {
     "data": {
      "text/plain": [
       "[(1+2j), True, 'nit', 10, 20]"
      ]
     },
     "execution_count": 404,
     "metadata": {},
     "output_type": "execute_result"
    }
   ],
   "source": [
    "l[2:-1]"
   ]
  },
  {
   "cell_type": "code",
   "execution_count": 406,
   "id": "3fb49bdc-ad41-4c61-b62e-fc552793459c",
   "metadata": {},
   "outputs": [
    {
     "data": {
      "text/plain": [
       "[30, 3.6, (1+2j), True, 'nit', 10, 20, 20]"
      ]
     },
     "execution_count": 406,
     "metadata": {},
     "output_type": "execute_result"
    }
   ],
   "source": [
    "l"
   ]
  },
  {
   "cell_type": "code",
   "execution_count": 408,
   "id": "0eda5918-4dfb-4c79-873e-4dd36548d51d",
   "metadata": {},
   "outputs": [
    {
     "data": {
      "text/plain": [
       "[20, 10, True, 3.6]"
      ]
     },
     "execution_count": 408,
     "metadata": {},
     "output_type": "execute_result"
    }
   ],
   "source": [
    "l[::-2]"
   ]
  },
  {
   "cell_type": "code",
   "execution_count": 410,
   "id": "c9d1253c-cfa8-40ee-b2a2-088fcb7edb11",
   "metadata": {},
   "outputs": [
    {
     "data": {
      "text/plain": [
       "[30, 3.6, (1+2j), True, 'nit', 10, 20, 20]"
      ]
     },
     "execution_count": 410,
     "metadata": {},
     "output_type": "execute_result"
    }
   ],
   "source": [
    "l"
   ]
  },
  {
   "cell_type": "markdown",
   "id": "b3b19c54-4b42-4b94-92a1-b14497266fbb",
   "metadata": {},
   "source": [
    "TUPLE"
   ]
  },
  {
   "cell_type": "code",
   "execution_count": 413,
   "id": "9cd288bd-c5dc-44c8-b7ed-adf696899030",
   "metadata": {},
   "outputs": [
    {
     "data": {
      "text/plain": [
       "()"
      ]
     },
     "execution_count": 413,
     "metadata": {},
     "output_type": "execute_result"
    }
   ],
   "source": [
    "t = ()\n",
    "t"
   ]
  },
  {
   "cell_type": "code",
   "execution_count": 415,
   "id": "30e4ded5-5770-45f8-804f-f47f80ecedd6",
   "metadata": {},
   "outputs": [
    {
     "data": {
      "text/plain": [
       "tuple"
      ]
     },
     "execution_count": 415,
     "metadata": {},
     "output_type": "execute_result"
    }
   ],
   "source": [
    "type(t)"
   ]
  },
  {
   "cell_type": "code",
   "execution_count": 417,
   "id": "67f5912a-ed11-4f06-b1e7-7c28d93f4ba2",
   "metadata": {},
   "outputs": [
    {
     "data": {
      "text/plain": [
       "tuple"
      ]
     },
     "execution_count": 417,
     "metadata": {},
     "output_type": "execute_result"
    }
   ],
   "source": [
    "t1= tuple()\n",
    "type(t1)"
   ]
  },
  {
   "cell_type": "code",
   "execution_count": 419,
   "id": "bf4d64ee-c726-4c51-a583-4df88b5b096b",
   "metadata": {},
   "outputs": [
    {
     "data": {
      "text/plain": [
       "(10, 10, 20, 30)"
      ]
     },
     "execution_count": 419,
     "metadata": {},
     "output_type": "execute_result"
    }
   ],
   "source": [
    "t = (10, 10, 20, 30)\n",
    "t"
   ]
  },
  {
   "cell_type": "code",
   "execution_count": 421,
   "id": "b81ea77c-4b28-43f6-9174-4269c30f8d3e",
   "metadata": {},
   "outputs": [
    {
     "data": {
      "text/plain": [
       "10"
      ]
     },
     "execution_count": 421,
     "metadata": {},
     "output_type": "execute_result"
    }
   ],
   "source": [
    "t[0]"
   ]
  },
  {
   "cell_type": "code",
   "execution_count": 423,
   "id": "d8a433eb-9d72-4b3d-b8e2-3ead5aa2703a",
   "metadata": {},
   "outputs": [
    {
     "data": {
      "text/plain": [
       "(10, 1.2, 'nit', (1+2j), True)"
      ]
     },
     "execution_count": 423,
     "metadata": {},
     "output_type": "execute_result"
    }
   ],
   "source": [
    "t1 = (10, 1.2 , 'nit', 1+2j, True)\n",
    "t1"
   ]
  },
  {
   "cell_type": "code",
   "execution_count": 427,
   "id": "12600e8c-ae7d-41f5-bf0f-c9625112dca6",
   "metadata": {},
   "outputs": [
    {
     "data": {
      "text/plain": [
       "1"
      ]
     },
     "execution_count": 427,
     "metadata": {},
     "output_type": "execute_result"
    }
   ],
   "source": [
    "t1.count(10)"
   ]
  },
  {
   "cell_type": "code",
   "execution_count": 429,
   "id": "e0cf4bf1-11fd-4e82-b193-46699f371918",
   "metadata": {},
   "outputs": [
    {
     "data": {
      "text/plain": [
       "2"
      ]
     },
     "execution_count": 429,
     "metadata": {},
     "output_type": "execute_result"
    }
   ],
   "source": [
    "t1.index('nit')"
   ]
  },
  {
   "cell_type": "code",
   "execution_count": 431,
   "id": "3aa81389-1ed1-4d72-acfb-cdc36e4af9e0",
   "metadata": {},
   "outputs": [
    {
     "name": "stdout",
     "output_type": "stream",
     "text": [
      "10\n",
      "1.2\n",
      "nit\n",
      "(1+2j)\n",
      "True\n"
     ]
    }
   ],
   "source": [
    "for i in t1:\n",
    "    print(i)"
   ]
  },
  {
   "cell_type": "code",
   "execution_count": 433,
   "id": "d3f9d58b-9d8e-41ea-8030-13844e63337f",
   "metadata": {},
   "outputs": [
    {
     "name": "stdout",
     "output_type": "stream",
     "text": [
      "(0, 10)\n",
      "(1, 1.2)\n",
      "(2, 'nit')\n",
      "(3, (1+2j))\n",
      "(4, True)\n"
     ]
    }
   ],
   "source": [
    "for i in enumerate(t1):\n",
    "    print(i)"
   ]
  },
  {
   "cell_type": "code",
   "execution_count": 437,
   "id": "b012c018-85e8-4fc4-80f8-21c07abb8906",
   "metadata": {},
   "outputs": [
    {
     "data": {
      "text/plain": [
       "(10, 10, 20, 30, 10, 10, 20, 30, 10, 10, 20, 30, 10, 10, 20, 30)"
      ]
     },
     "execution_count": 437,
     "metadata": {},
     "output_type": "execute_result"
    }
   ],
   "source": [
    "t4 = t * 4\n",
    "t4"
   ]
  },
  {
   "cell_type": "code",
   "execution_count": 439,
   "id": "4c3169b5-35d0-4164-b793-8544a30e3cf1",
   "metadata": {},
   "outputs": [
    {
     "data": {
      "text/plain": [
       "(10, 10, 20, 30)"
      ]
     },
     "execution_count": 439,
     "metadata": {},
     "output_type": "execute_result"
    }
   ],
   "source": [
    "t[:]"
   ]
  },
  {
   "cell_type": "code",
   "execution_count": 441,
   "id": "92612ca8-1974-48b8-aaf5-592aa3691a43",
   "metadata": {},
   "outputs": [
    {
     "data": {
      "text/plain": [
       "(10, 10)"
      ]
     },
     "execution_count": 441,
     "metadata": {},
     "output_type": "execute_result"
    }
   ],
   "source": [
    "t[:2]"
   ]
  },
  {
   "cell_type": "code",
   "execution_count": 443,
   "id": "9a04a988-771e-4e6d-932f-c9ff5a5e5124",
   "metadata": {},
   "outputs": [
    {
     "data": {
      "text/plain": [
       "(30, 20, 10, 10)"
      ]
     },
     "execution_count": 443,
     "metadata": {},
     "output_type": "execute_result"
    }
   ],
   "source": [
    "t[::-1]"
   ]
  },
  {
   "cell_type": "markdown",
   "id": "6e60c64c-7590-4a95-913f-cb358a694bd8",
   "metadata": {},
   "source": [
    "set"
   ]
  },
  {
   "cell_type": "code",
   "execution_count": 104,
   "id": "90d8fe2a-6d9b-4fe3-9e39-4f3a93377890",
   "metadata": {},
   "outputs": [
    {
     "data": {
      "text/plain": [
       "{}"
      ]
     },
     "execution_count": 104,
     "metadata": {},
     "output_type": "execute_result"
    }
   ],
   "source": [
    "s = {}\n",
    "s"
   ]
  },
  {
   "cell_type": "code",
   "execution_count": 106,
   "id": "df51945f-fc1a-4353-a1ae-7d87175d30f4",
   "metadata": {},
   "outputs": [
    {
     "data": {
      "text/plain": [
       "set"
      ]
     },
     "execution_count": 106,
     "metadata": {},
     "output_type": "execute_result"
    }
   ],
   "source": [
    "s1 = set()\n",
    "type(s1)"
   ]
  },
  {
   "cell_type": "code",
   "execution_count": 108,
   "id": "63742ccf-fcdb-461e-90cb-c5b46347389e",
   "metadata": {},
   "outputs": [
    {
     "data": {
      "text/plain": [
       "dict"
      ]
     },
     "execution_count": 108,
     "metadata": {},
     "output_type": "execute_result"
    }
   ],
   "source": [
    "type(s)"
   ]
  },
  {
   "cell_type": "code",
   "execution_count": 110,
   "id": "0f2caa8b-558c-4f4d-8af2-d4cf0013cef2",
   "metadata": {},
   "outputs": [
    {
     "data": {
      "text/plain": [
       "{3, 15, 20, 47, 100}"
      ]
     },
     "execution_count": 110,
     "metadata": {},
     "output_type": "execute_result"
    }
   ],
   "source": [
    "s1 = {100, 20, 3, 15, 47}\n",
    "s1"
   ]
  },
  {
   "cell_type": "code",
   "execution_count": 112,
   "id": "5d66f558-c5ea-4aa1-b10f-8ed3f03dc3e0",
   "metadata": {},
   "outputs": [
    {
     "data": {
      "text/plain": [
       "{1.3, 2.3, 4.5}"
      ]
     },
     "execution_count": 112,
     "metadata": {},
     "output_type": "execute_result"
    }
   ],
   "source": [
    "s2 = {2.3, 4.5, 1.3}\n",
    "s2"
   ]
  },
  {
   "cell_type": "code",
   "execution_count": 114,
   "id": "b6ed533d-f0f0-4ae3-8522-306c113638f7",
   "metadata": {},
   "outputs": [],
   "source": [
    "s3 = { 'z', 'm', ' a', 'x'}"
   ]
  },
  {
   "cell_type": "code",
   "execution_count": 116,
   "id": "8de26d7f-1139-4b2a-92a3-8159f87d0472",
   "metadata": {},
   "outputs": [
    {
     "data": {
      "text/plain": [
       "{' a', 'm', 'x', 'z'}"
      ]
     },
     "execution_count": 116,
     "metadata": {},
     "output_type": "execute_result"
    }
   ],
   "source": [
    "s3"
   ]
  },
  {
   "cell_type": "code",
   "execution_count": 118,
   "id": "5f8bbbcc-ecba-4431-ad3b-33b18f2fd99f",
   "metadata": {},
   "outputs": [
    {
     "data": {
      "text/plain": [
       "{10, 2.3, 5, 6.7, 'a'}"
      ]
     },
     "execution_count": 118,
     "metadata": {},
     "output_type": "execute_result"
    }
   ],
   "source": [
    "s4= {10, 2.3, 'a', 5, 6.7}\n",
    "s4"
   ]
  },
  {
   "cell_type": "code",
   "execution_count": 120,
   "id": "5eb1d5a6-040e-4056-8444-282790d88fde",
   "metadata": {},
   "outputs": [
    {
     "name": "stdout",
     "output_type": "stream",
     "text": [
      "{3, 100, 20, 47, 15}\n",
      "{1.3, 2.3, 4.5}\n",
      "{'x', 'z', 'm', ' a'}\n",
      "{2.3, 'a', 5, 6.7, 10}\n"
     ]
    }
   ],
   "source": [
    "print(s1)\n",
    "print(s2)\n",
    "print(s3)\n",
    "print(s4)"
   ]
  },
  {
   "cell_type": "code",
   "execution_count": 122,
   "id": "bad6355a-a3b4-4136-9985-b51549e61bb2",
   "metadata": {},
   "outputs": [
    {
     "name": "stdout",
     "output_type": "stream",
     "text": [
      "(0, 3)\n",
      "(1, 100)\n",
      "(2, 20)\n",
      "(3, 47)\n",
      "(4, 15)\n"
     ]
    }
   ],
   "source": [
    "for i in enumerate(s1):\n",
    "    print(i)"
   ]
  },
  {
   "cell_type": "code",
   "execution_count": 124,
   "id": "0a15161e-db7c-49e0-b90b-3785ef306201",
   "metadata": {},
   "outputs": [
    {
     "data": {
      "text/plain": [
       "{10, 2.3, 5, 6.7, 'a'}"
      ]
     },
     "execution_count": 124,
     "metadata": {},
     "output_type": "execute_result"
    }
   ],
   "source": [
    "s4"
   ]
  },
  {
   "cell_type": "code",
   "execution_count": 126,
   "id": "0e10b8fb-bfd5-4566-9f19-1b638e3f2d5f",
   "metadata": {},
   "outputs": [],
   "source": [
    "s4.add(10)"
   ]
  },
  {
   "cell_type": "code",
   "execution_count": 128,
   "id": "2b28107b-6ef4-4a4d-a41b-542e4b4986ef",
   "metadata": {},
   "outputs": [
    {
     "data": {
      "text/plain": [
       "{10, 2.3, 5, 6.7, 'a'}"
      ]
     },
     "execution_count": 128,
     "metadata": {},
     "output_type": "execute_result"
    }
   ],
   "source": [
    "s4"
   ]
  },
  {
   "cell_type": "code",
   "execution_count": 130,
   "id": "b4d505f3-f7d3-406f-b1a6-52fa3ee6965b",
   "metadata": {},
   "outputs": [
    {
     "data": {
      "text/plain": [
       "{3, 4, 15, 20, 47, 100}"
      ]
     },
     "execution_count": 130,
     "metadata": {},
     "output_type": "execute_result"
    }
   ],
   "source": [
    "s1.add(4)\n",
    "s1"
   ]
  },
  {
   "cell_type": "code",
   "execution_count": 132,
   "id": "5ab3ba10-b777-4b1c-ae40-79d65690618f",
   "metadata": {},
   "outputs": [
    {
     "data": {
      "text/plain": [
       "5"
      ]
     },
     "execution_count": 132,
     "metadata": {},
     "output_type": "execute_result"
    }
   ],
   "source": [
    "len(s4)"
   ]
  },
  {
   "cell_type": "code",
   "execution_count": 134,
   "id": "1b20615a-0281-4e9f-be48-b9d15969d9f5",
   "metadata": {},
   "outputs": [],
   "source": [
    "s4.add(20)"
   ]
  },
  {
   "cell_type": "code",
   "execution_count": 136,
   "id": "edc98bf4-3f20-4c50-8838-dfc996adbc78",
   "metadata": {},
   "outputs": [
    {
     "data": {
      "text/plain": [
       "6"
      ]
     },
     "execution_count": 136,
     "metadata": {},
     "output_type": "execute_result"
    }
   ],
   "source": [
    "len(s4)"
   ]
  },
  {
   "cell_type": "code",
   "execution_count": 138,
   "id": "47b2c414-409a-4b19-8ec4-9daa90132acf",
   "metadata": {},
   "outputs": [
    {
     "data": {
      "text/plain": [
       "set()"
      ]
     },
     "execution_count": 138,
     "metadata": {},
     "output_type": "execute_result"
    }
   ],
   "source": [
    "s4.clear()\n",
    "s4"
   ]
  },
  {
   "cell_type": "code",
   "execution_count": 140,
   "id": "b9b7eef2-758b-4806-9bd2-7dce6b4756f7",
   "metadata": {},
   "outputs": [
    {
     "data": {
      "text/plain": [
       "0"
      ]
     },
     "execution_count": 140,
     "metadata": {},
     "output_type": "execute_result"
    }
   ],
   "source": [
    "len(s4)"
   ]
  },
  {
   "cell_type": "code",
   "execution_count": 142,
   "id": "212f4725-62d2-44ae-bc5d-68778e18ce17",
   "metadata": {},
   "outputs": [
    {
     "ename": "NameError",
     "evalue": "name 's4' is not defined",
     "output_type": "error",
     "traceback": [
      "\u001b[1;31m---------------------------------------------------------------------------\u001b[0m",
      "\u001b[1;31mNameError\u001b[0m                                 Traceback (most recent call last)",
      "Cell \u001b[1;32mIn[142], line 2\u001b[0m\n\u001b[0;32m      1\u001b[0m \u001b[38;5;28;01mdel\u001b[39;00m s4\n\u001b[1;32m----> 2\u001b[0m s4\n",
      "\u001b[1;31mNameError\u001b[0m: name 's4' is not defined"
     ]
    }
   ],
   "source": [
    "del s4\n",
    "s4"
   ]
  },
  {
   "cell_type": "code",
   "execution_count": 143,
   "id": "a58c2e45-9e78-44c6-923e-aa938956b168",
   "metadata": {},
   "outputs": [
    {
     "data": {
      "text/plain": [
       "{3, 4, 15, 20, 47, 100}"
      ]
     },
     "execution_count": 143,
     "metadata": {},
     "output_type": "execute_result"
    }
   ],
   "source": [
    "s4 = s1.copy()\n",
    "s4"
   ]
  },
  {
   "cell_type": "code",
   "execution_count": 145,
   "id": "c1647146-4eba-46f0-8d9a-adebfda830ce",
   "metadata": {},
   "outputs": [
    {
     "data": {
      "text/plain": [
       "True"
      ]
     },
     "execution_count": 145,
     "metadata": {},
     "output_type": "execute_result"
    }
   ],
   "source": [
    "s4 == s1"
   ]
  },
  {
   "cell_type": "code",
   "execution_count": 148,
   "id": "440bcd5c-2870-4873-811f-dd8861eb901f",
   "metadata": {},
   "outputs": [
    {
     "data": {
      "text/plain": [
       "False"
      ]
     },
     "execution_count": 148,
     "metadata": {},
     "output_type": "execute_result"
    }
   ],
   "source": [
    "s4 == s3"
   ]
  },
  {
   "cell_type": "code",
   "execution_count": 150,
   "id": "270fbcbd-16d4-4878-9e2f-cabd3665bbb5",
   "metadata": {},
   "outputs": [
    {
     "data": {
      "text/plain": [
       "{3, 4, 15, 20, 47}"
      ]
     },
     "execution_count": 150,
     "metadata": {},
     "output_type": "execute_result"
    }
   ],
   "source": [
    "s1.remove(100)\n",
    "s1"
   ]
  },
  {
   "cell_type": "code",
   "execution_count": 152,
   "id": "a98e60ff-ef50-46af-b920-571cf55ae8e4",
   "metadata": {},
   "outputs": [
    {
     "ename": "TypeError",
     "evalue": "'set' object is not subscriptable",
     "output_type": "error",
     "traceback": [
      "\u001b[1;31m---------------------------------------------------------------------------\u001b[0m",
      "\u001b[1;31mTypeError\u001b[0m                                 Traceback (most recent call last)",
      "Cell \u001b[1;32mIn[152], line 1\u001b[0m\n\u001b[1;32m----> 1\u001b[0m s1[:]\n",
      "\u001b[1;31mTypeError\u001b[0m: 'set' object is not subscriptable"
     ]
    }
   ],
   "source": [
    "s1[:]"
   ]
  },
  {
   "cell_type": "code",
   "execution_count": 153,
   "id": "c23968eb-ff19-4d7f-bd86-5a4b824ef0db",
   "metadata": {},
   "outputs": [
    {
     "data": {
      "text/plain": [
       "'x'"
      ]
     },
     "execution_count": 153,
     "metadata": {},
     "output_type": "execute_result"
    }
   ],
   "source": [
    "s3.pop()"
   ]
  },
  {
   "cell_type": "code",
   "execution_count": 154,
   "id": "6ba18ab6-2e7a-4ac2-8e21-84477526ff47",
   "metadata": {},
   "outputs": [
    {
     "data": {
      "text/plain": [
       "1.3"
      ]
     },
     "execution_count": 154,
     "metadata": {},
     "output_type": "execute_result"
    }
   ],
   "source": [
    "s2.pop()"
   ]
  },
  {
   "cell_type": "code",
   "execution_count": 158,
   "id": "abe8a6c3-3a75-4293-8fa4-545f188bc5f7",
   "metadata": {},
   "outputs": [
    {
     "ename": "TypeError",
     "evalue": "set.pop() takes no arguments (1 given)",
     "output_type": "error",
     "traceback": [
      "\u001b[1;31m---------------------------------------------------------------------------\u001b[0m",
      "\u001b[1;31mTypeError\u001b[0m                                 Traceback (most recent call last)",
      "Cell \u001b[1;32mIn[158], line 1\u001b[0m\n\u001b[1;32m----> 1\u001b[0m s4\u001b[38;5;241m.\u001b[39mpop(\u001b[38;5;241m3\u001b[39m)\n",
      "\u001b[1;31mTypeError\u001b[0m: set.pop() takes no arguments (1 given)"
     ]
    }
   ],
   "source": [
    "s4.pop(3)"
   ]
  },
  {
   "cell_type": "code",
   "execution_count": 160,
   "id": "a26814ef-6e12-4a34-96ea-7ab7fbd29ef7",
   "metadata": {},
   "outputs": [
    {
     "data": {
      "text/plain": [
       "False"
      ]
     },
     "execution_count": 160,
     "metadata": {},
     "output_type": "execute_result"
    }
   ],
   "source": [
    "'ak' in s3"
   ]
  },
  {
   "cell_type": "code",
   "execution_count": 162,
   "id": "72dd35f7-f8b2-4747-abe3-f87de1460aee",
   "metadata": {},
   "outputs": [],
   "source": [
    "a = {1, 2, 3, 4, 5}\n",
    "b = {4, 5, 6, 7, 8}\n",
    "c = {8, 9, 10}"
   ]
  },
  {
   "cell_type": "code",
   "execution_count": 164,
   "id": "4d2456c3-b2f9-49d7-872e-d125a1234c28",
   "metadata": {},
   "outputs": [
    {
     "data": {
      "text/plain": [
       "set"
      ]
     },
     "execution_count": 164,
     "metadata": {},
     "output_type": "execute_result"
    }
   ],
   "source": [
    "type(b)"
   ]
  },
  {
   "cell_type": "code",
   "execution_count": 166,
   "id": "cb92706b-08ff-4198-b3b8-ec0d595aa2bb",
   "metadata": {},
   "outputs": [
    {
     "data": {
      "text/plain": [
       "{1, 2, 3, 4, 5, 6, 7, 8}"
      ]
     },
     "execution_count": 166,
     "metadata": {},
     "output_type": "execute_result"
    }
   ],
   "source": [
    "a.union(b)"
   ]
  },
  {
   "cell_type": "code",
   "execution_count": 167,
   "id": "b9296fcc-c2e8-433f-9661-7c01e79b9eac",
   "metadata": {},
   "outputs": [
    {
     "data": {
      "text/plain": [
       "{1, 2, 3, 4, 5, 6, 7, 8}"
      ]
     },
     "execution_count": 167,
     "metadata": {},
     "output_type": "execute_result"
    }
   ],
   "source": [
    "d_union = a.union(b)\n",
    "d_union"
   ]
  },
  {
   "cell_type": "code",
   "execution_count": 168,
   "id": "151d91a5-11fc-4f6e-8a65-c044e3440441",
   "metadata": {},
   "outputs": [
    {
     "name": "stdout",
     "output_type": "stream",
     "text": [
      "{1, 2, 3, 4, 5, 6, 7, 8}\n"
     ]
    }
   ],
   "source": [
    "print(d_union)"
   ]
  },
  {
   "cell_type": "code",
   "execution_count": 169,
   "id": "6ac7cd7b-7182-4439-beeb-51b7982cfbcd",
   "metadata": {},
   "outputs": [
    {
     "data": {
      "text/plain": [
       "{1, 2, 3, 4, 5, 6, 7, 8, 9, 10}"
      ]
     },
     "execution_count": 169,
     "metadata": {},
     "output_type": "execute_result"
    }
   ],
   "source": [
    "b.union(a,c)"
   ]
  },
  {
   "cell_type": "code",
   "execution_count": 170,
   "id": "d931194f-b11e-4e11-a759-84eb4dd2a472",
   "metadata": {},
   "outputs": [
    {
     "data": {
      "text/plain": [
       "{1, 2, 3, 4, 5, 6, 7, 8}"
      ]
     },
     "execution_count": 170,
     "metadata": {},
     "output_type": "execute_result"
    }
   ],
   "source": [
    "a | b"
   ]
  },
  {
   "cell_type": "code",
   "execution_count": 176,
   "id": "84c2b6fc-7297-40c0-ace8-94bfa11e68ac",
   "metadata": {},
   "outputs": [
    {
     "data": {
      "text/plain": [
       "{1, 2, 3, 4, 5, 6, 7, 8, 9, 10}"
      ]
     },
     "execution_count": 176,
     "metadata": {},
     "output_type": "execute_result"
    }
   ],
   "source": [
    "a | b| c"
   ]
  },
  {
   "cell_type": "code",
   "execution_count": 178,
   "id": "4657b755-2ec8-43e3-b1f8-2b238bd8618b",
   "metadata": {},
   "outputs": [],
   "source": [
    "a.update(b)"
   ]
  },
  {
   "cell_type": "code",
   "execution_count": 180,
   "id": "ce8fbf58-ecdb-4325-a0bb-42fd678a17d2",
   "metadata": {},
   "outputs": [
    {
     "name": "stdout",
     "output_type": "stream",
     "text": [
      "{1, 2, 3, 4, 5, 6, 7, 8}\n",
      "{4, 5, 6, 7, 8}\n"
     ]
    }
   ],
   "source": [
    "print(a)\n",
    "print(b)"
   ]
  },
  {
   "cell_type": "code",
   "execution_count": 184,
   "id": "b8613887-1e56-4ede-a230-be01d46c9291",
   "metadata": {},
   "outputs": [
    {
     "data": {
      "text/plain": [
       "{1, 2, 3, 4, 5, 6, 7, 8}"
      ]
     },
     "execution_count": 184,
     "metadata": {},
     "output_type": "execute_result"
    }
   ],
   "source": [
    "a"
   ]
  },
  {
   "cell_type": "code",
   "execution_count": 186,
   "id": "f3d08c4a-c189-497c-8a13-62133e014fbb",
   "metadata": {},
   "outputs": [
    {
     "data": {
      "text/plain": [
       "{4, 5, 6, 7, 8}"
      ]
     },
     "execution_count": 186,
     "metadata": {},
     "output_type": "execute_result"
    }
   ],
   "source": [
    "b"
   ]
  },
  {
   "cell_type": "code",
   "execution_count": 188,
   "id": "c7ed6e22-ca87-4c11-9b16-98c9ad142d40",
   "metadata": {},
   "outputs": [],
   "source": [
    "a5 = {1, 2, 3, 4, 5, 6,7,8,9}\n",
    "b5 = {3,4, 5, 6, 7, 8}\n",
    "c5 = {10,20,30,40}"
   ]
  },
  {
   "cell_type": "code",
   "execution_count": 190,
   "id": "cf0b1d86-134b-4272-9e49-6c19b2a39350",
   "metadata": {},
   "outputs": [
    {
     "data": {
      "text/plain": [
       "True"
      ]
     },
     "execution_count": 190,
     "metadata": {},
     "output_type": "execute_result"
    }
   ],
   "source": [
    "a5.issuperset(b5)"
   ]
  },
  {
   "cell_type": "code",
   "execution_count": 192,
   "id": "a8a62aaa-926c-431c-b950-52adfedd6cb8",
   "metadata": {},
   "outputs": [
    {
     "data": {
      "text/plain": [
       "False"
      ]
     },
     "execution_count": 192,
     "metadata": {},
     "output_type": "execute_result"
    }
   ],
   "source": [
    "a5.issubset(b5)"
   ]
  },
  {
   "cell_type": "code",
   "execution_count": 194,
   "id": "f6a4a0bd-3fb0-49dc-8e20-b4c22ca5046b",
   "metadata": {},
   "outputs": [
    {
     "data": {
      "text/plain": [
       "True"
      ]
     },
     "execution_count": 194,
     "metadata": {},
     "output_type": "execute_result"
    }
   ],
   "source": [
    "a5.isdisjoint(c5)"
   ]
  },
  {
   "cell_type": "code",
   "execution_count": 196,
   "id": "00827c13-e324-4f6d-829b-c757a37a8bf7",
   "metadata": {},
   "outputs": [
    {
     "data": {
      "text/plain": [
       "True"
      ]
     },
     "execution_count": 196,
     "metadata": {},
     "output_type": "execute_result"
    }
   ],
   "source": [
    "b5.issubset(a5)"
   ]
  },
  {
   "cell_type": "code",
   "execution_count": 198,
   "id": "08ab9822-55f0-4731-9b8b-01be9f5a1fda",
   "metadata": {},
   "outputs": [
    {
     "data": {
      "text/plain": [
       "False"
      ]
     },
     "execution_count": 198,
     "metadata": {},
     "output_type": "execute_result"
    }
   ],
   "source": [
    "b5.issubset(c5)"
   ]
  },
  {
   "cell_type": "code",
   "execution_count": 200,
   "id": "4e7838af-a3eb-4c18-b480-52f0f1129687",
   "metadata": {},
   "outputs": [
    {
     "data": {
      "text/plain": [
       "True"
      ]
     },
     "execution_count": 200,
     "metadata": {},
     "output_type": "execute_result"
    }
   ],
   "source": [
    "b5.isdisjoint(c5)"
   ]
  },
  {
   "cell_type": "code",
   "execution_count": 204,
   "id": "16f4d975-a05a-4ce8-8b76-c9721e24304b",
   "metadata": {},
   "outputs": [],
   "source": [
    "a6 = {1, 2, 3, 4,}\n",
    "b6 = {5, 6, 7, 8}\n",
    "c6 = {10,20,30,40}"
   ]
  },
  {
   "cell_type": "code",
   "execution_count": 206,
   "id": "f79618d2-69e8-46eb-8d14-bb3695a02792",
   "metadata": {},
   "outputs": [
    {
     "data": {
      "text/plain": [
       "False"
      ]
     },
     "execution_count": 206,
     "metadata": {},
     "output_type": "execute_result"
    }
   ],
   "source": [
    "a6.issuperset(b6)"
   ]
  },
  {
   "cell_type": "code",
   "execution_count": 208,
   "id": "80a5807f-7439-459e-9eef-e501b04e6160",
   "metadata": {},
   "outputs": [
    {
     "data": {
      "text/plain": [
       "False"
      ]
     },
     "execution_count": 208,
     "metadata": {},
     "output_type": "execute_result"
    }
   ],
   "source": [
    "b6.issubset(a6)"
   ]
  },
  {
   "cell_type": "code",
   "execution_count": 210,
   "id": "392930eb-f580-4c2b-849d-730c67b6459c",
   "metadata": {},
   "outputs": [
    {
     "data": {
      "text/plain": [
       "36"
      ]
     },
     "execution_count": 210,
     "metadata": {},
     "output_type": "execute_result"
    }
   ],
   "source": [
    "sum(a)"
   ]
  },
  {
   "cell_type": "code",
   "execution_count": 212,
   "id": "a842e68f-8167-4d06-9936-647f0320a1fb",
   "metadata": {},
   "outputs": [
    {
     "data": {
      "text/plain": [
       "8"
      ]
     },
     "execution_count": 212,
     "metadata": {},
     "output_type": "execute_result"
    }
   ],
   "source": [
    "max(a)"
   ]
  },
  {
   "cell_type": "code",
   "execution_count": 214,
   "id": "971ceead-140d-494d-a7b0-5313bb03fb6a",
   "metadata": {},
   "outputs": [
    {
     "data": {
      "text/plain": [
       "1"
      ]
     },
     "execution_count": 214,
     "metadata": {},
     "output_type": "execute_result"
    }
   ],
   "source": [
    "min(a)"
   ]
  },
  {
   "cell_type": "code",
   "execution_count": 216,
   "id": "d6dafd62-99f2-45a6-8119-d88aa5f5abb3",
   "metadata": {},
   "outputs": [
    {
     "data": {
      "text/plain": [
       "8"
      ]
     },
     "execution_count": 216,
     "metadata": {},
     "output_type": "execute_result"
    }
   ],
   "source": [
    "len(a)"
   ]
  },
  {
   "cell_type": "code",
   "execution_count": 218,
   "id": "9f225aad-d9fc-41c9-a732-ae628aeba7ef",
   "metadata": {},
   "outputs": [
    {
     "data": {
      "text/plain": [
       "[(0, 1), (1, 2), (2, 3), (3, 4), (4, 5), (5, 6), (6, 7), (7, 8)]"
      ]
     },
     "execution_count": 218,
     "metadata": {},
     "output_type": "execute_result"
    }
   ],
   "source": [
    "list(enumerate(a))"
   ]
  },
  {
   "cell_type": "code",
   "execution_count": 220,
   "id": "290f6e44-1de6-4f38-a823-57bea8d14381",
   "metadata": {},
   "outputs": [],
   "source": [
    "d = sorted(a, reverse=True)"
   ]
  },
  {
   "cell_type": "code",
   "execution_count": 222,
   "id": "d93135ad-5270-4199-89a7-24574241bf5c",
   "metadata": {},
   "outputs": [
    {
     "data": {
      "text/plain": [
       "[8, 7, 6, 5, 4, 3, 2, 1]"
      ]
     },
     "execution_count": 222,
     "metadata": {},
     "output_type": "execute_result"
    }
   ],
   "source": [
    "d"
   ]
  },
  {
   "cell_type": "markdown",
   "id": "d1356938-0a01-481d-b4bf-1fbb73d7ce56",
   "metadata": {},
   "source": [
    "DICTIONARY"
   ]
  },
  {
   "cell_type": "code",
   "execution_count": 225,
   "id": "6d225273-b904-4cdc-a9fe-eae6b924b2ce",
   "metadata": {},
   "outputs": [
    {
     "data": {
      "text/plain": [
       "dict"
      ]
     },
     "execution_count": 225,
     "metadata": {},
     "output_type": "execute_result"
    }
   ],
   "source": [
    "d= {}\n",
    "type(d)"
   ]
  },
  {
   "cell_type": "code",
   "execution_count": 229,
   "id": "540a4113-50bd-40d5-933f-151f1062b16d",
   "metadata": {},
   "outputs": [
    {
     "data": {
      "text/plain": [
       "{1: 'one', 2: 'two', 3: 'three', 4: ' four', 5: 'five'}"
      ]
     },
     "execution_count": 229,
     "metadata": {},
     "output_type": "execute_result"
    }
   ],
   "source": [
    "d = {1 : 'one', 2 :'two', 3:'three', 4 : ' four', 5:'five'} \n",
    "d"
   ]
  },
  {
   "cell_type": "code",
   "execution_count": 235,
   "id": "b349b8c8-8d8a-468a-89b7-0e0c8ebe3fef",
   "metadata": {},
   "outputs": [
    {
     "data": {
      "text/plain": [
       "{'six': 6, 'seven': 7, 'eight': 8, 'nine': 9, 'ten': 10}"
      ]
     },
     "execution_count": 235,
     "metadata": {},
     "output_type": "execute_result"
    }
   ],
   "source": [
    "d1 = { 'six':6, 'seven':7, 'eight':8, 'nine':9, 'ten':10} \n",
    "d1"
   ]
  },
  {
   "cell_type": "code",
   "execution_count": 239,
   "id": "b16a177b-fea5-4c5f-8b2b-18eee570788d",
   "metadata": {},
   "outputs": [
    {
     "name": "stdout",
     "output_type": "stream",
     "text": [
      "5\n",
      "5\n"
     ]
    }
   ],
   "source": [
    "print(len(d))\n",
    "print(len(d1))"
   ]
  },
  {
   "cell_type": "code",
   "execution_count": 241,
   "id": "329a5901-4f4a-4dac-8a00-e072115ade4a",
   "metadata": {},
   "outputs": [
    {
     "data": {
      "text/plain": [
       "'one'"
      ]
     },
     "execution_count": 241,
     "metadata": {},
     "output_type": "execute_result"
    }
   ],
   "source": [
    "d[1]"
   ]
  },
  {
   "cell_type": "code",
   "execution_count": 243,
   "id": "d25d0770-683e-4f81-96d5-f1860a95b787",
   "metadata": {},
   "outputs": [
    {
     "data": {
      "text/plain": [
       "dict_keys([1, 2, 3, 4, 5])"
      ]
     },
     "execution_count": 243,
     "metadata": {},
     "output_type": "execute_result"
    }
   ],
   "source": [
    "d.keys()"
   ]
  },
  {
   "cell_type": "code",
   "execution_count": 245,
   "id": "dbac812a-1478-4619-b33d-8a4fe6d23028",
   "metadata": {},
   "outputs": [
    {
     "data": {
      "text/plain": [
       "dict_keys(['six', 'seven', 'eight', 'nine', 'ten'])"
      ]
     },
     "execution_count": 245,
     "metadata": {},
     "output_type": "execute_result"
    }
   ],
   "source": [
    "d1.keys()"
   ]
  },
  {
   "cell_type": "code",
   "execution_count": 257,
   "id": "3561503c-29f4-4834-abe8-27632eca5260",
   "metadata": {},
   "outputs": [],
   "source": [
    "d2 ={1:2, 2.3:4.8, 'nit':'nit', (1+2j):(2+3j) , True: False }"
   ]
  },
  {
   "cell_type": "code",
   "execution_count": 261,
   "id": "1ea44858-0f4a-462d-a0d0-b38b79c57a9f",
   "metadata": {},
   "outputs": [],
   "source": [
    "d3={ 10:'ten' , 9.0 :'nine'}"
   ]
  },
  {
   "cell_type": "code",
   "execution_count": 263,
   "id": "bcd3b598-de7f-41a0-a4da-6b1566bd60dd",
   "metadata": {},
   "outputs": [
    {
     "data": {
      "text/plain": [
       "dict_items([(1, 'one'), (2, 'two'), (3, 'three'), (4, ' four'), (5, 'five')])"
      ]
     },
     "execution_count": 263,
     "metadata": {},
     "output_type": "execute_result"
    }
   ],
   "source": [
    "d.items()"
   ]
  },
  {
   "cell_type": "code",
   "execution_count": 265,
   "id": "6b04da50-20b2-4954-9db2-523ab13d212e",
   "metadata": {},
   "outputs": [
    {
     "data": {
      "text/plain": [
       "1465830986752"
      ]
     },
     "execution_count": 265,
     "metadata": {},
     "output_type": "execute_result"
    }
   ],
   "source": [
    "id(d)"
   ]
  },
  {
   "cell_type": "code",
   "execution_count": 267,
   "id": "f6ab580c-9982-4ead-a080-29e77277b33d",
   "metadata": {},
   "outputs": [
    {
     "data": {
      "text/plain": [
       "{1: 'one', 2: 'two', 3: 'three', 4: ' four'}"
      ]
     },
     "execution_count": 267,
     "metadata": {},
     "output_type": "execute_result"
    }
   ],
   "source": [
    "d.popitem()\n",
    "d"
   ]
  },
  {
   "cell_type": "code",
   "execution_count": 271,
   "id": "11836b78-dcd9-4b5a-b331-c3881b818d4d",
   "metadata": {},
   "outputs": [
    {
     "name": "stdout",
     "output_type": "stream",
     "text": [
      "1\n",
      "2\n",
      "3\n",
      "4\n"
     ]
    }
   ],
   "source": [
    "for i in d:\n",
    "    print(i)"
   ]
  },
  {
   "cell_type": "code",
   "execution_count": 273,
   "id": "b021e33a-778a-4703-86ba-84588ce91e42",
   "metadata": {},
   "outputs": [
    {
     "name": "stdout",
     "output_type": "stream",
     "text": [
      "1 : one\n",
      "2 : two\n",
      "3 : three\n",
      "4 :  four\n"
     ]
    }
   ],
   "source": [
    "for i in d:\n",
    "    print(i, ':', d[i])"
   ]
  },
  {
   "cell_type": "code",
   "execution_count": 9,
   "id": "5c8fa428-a240-4ab7-9e8f-1b9a17f47e0d",
   "metadata": {},
   "outputs": [
    {
     "data": {
      "text/plain": [
       "1331"
      ]
     },
     "execution_count": 9,
     "metadata": {},
     "output_type": "execute_result"
    }
   ],
   "source": [
    "x = 11\n",
    "y = 3\n",
    "z = x**y\n",
    "z"
   ]
  },
  {
   "cell_type": "code",
   "execution_count": null,
   "id": "79a0fd69-d9b6-4e5a-9921-143ec2e3c49c",
   "metadata": {},
   "outputs": [],
   "source": []
  },
  {
   "cell_type": "code",
   "execution_count": null,
   "id": "757bca6e-7e84-44b6-9497-62570d23fec2",
   "metadata": {},
   "outputs": [],
   "source": []
  },
  {
   "cell_type": "code",
   "execution_count": null,
   "id": "4dcc9fdc-fad8-44a6-a57a-e39c6d8d43d4",
   "metadata": {},
   "outputs": [],
   "source": []
  },
  {
   "cell_type": "code",
   "execution_count": null,
   "id": "0e5d8392-89bc-4a9f-b2eb-e792270ce869",
   "metadata": {},
   "outputs": [],
   "source": []
  },
  {
   "cell_type": "code",
   "execution_count": null,
   "id": "516a397e-b5e0-476d-8967-09c4d00c6f1d",
   "metadata": {},
   "outputs": [],
   "source": []
  },
  {
   "cell_type": "code",
   "execution_count": null,
   "id": "401d2b6c-0262-4299-b01a-cca540a5076d",
   "metadata": {},
   "outputs": [],
   "source": []
  },
  {
   "cell_type": "code",
   "execution_count": null,
   "id": "dc2bf372-9e28-4545-bf46-b6e0eef8f760",
   "metadata": {},
   "outputs": [],
   "source": []
  },
  {
   "cell_type": "code",
   "execution_count": null,
   "id": "6483fd36-87ce-4848-934b-7d8f0e64419c",
   "metadata": {},
   "outputs": [],
   "source": []
  },
  {
   "cell_type": "code",
   "execution_count": null,
   "id": "9efd0d91-54a7-4795-8398-ed020bdaf90a",
   "metadata": {},
   "outputs": [],
   "source": []
  },
  {
   "cell_type": "code",
   "execution_count": null,
   "id": "5b318f4f-cadf-4cfb-9429-6304bc56ff02",
   "metadata": {},
   "outputs": [],
   "source": []
  },
  {
   "cell_type": "code",
   "execution_count": null,
   "id": "374413da-dccb-4309-b44c-181ab8bb4fb2",
   "metadata": {},
   "outputs": [],
   "source": []
  },
  {
   "cell_type": "code",
   "execution_count": null,
   "id": "2397d4ad-8677-44c1-9255-a4dbca1286f9",
   "metadata": {},
   "outputs": [],
   "source": []
  },
  {
   "cell_type": "code",
   "execution_count": null,
   "id": "01af9474-e41b-4bed-8c9f-4ec373f7e2b0",
   "metadata": {},
   "outputs": [],
   "source": []
  },
  {
   "cell_type": "code",
   "execution_count": null,
   "id": "8a46e7ab-4f89-4123-9996-cbd120fccbfe",
   "metadata": {},
   "outputs": [],
   "source": []
  },
  {
   "cell_type": "code",
   "execution_count": null,
   "id": "11f922ea-7888-4d9d-81ac-9b71e6c36cac",
   "metadata": {},
   "outputs": [],
   "source": []
  },
  {
   "cell_type": "code",
   "execution_count": null,
   "id": "bab230fd-1590-47cd-9f4a-b499e2cc5c1a",
   "metadata": {},
   "outputs": [],
   "source": []
  },
  {
   "cell_type": "code",
   "execution_count": null,
   "id": "b58fcc10-410c-4aae-a611-25aa7bfa70ff",
   "metadata": {},
   "outputs": [],
   "source": []
  },
  {
   "cell_type": "code",
   "execution_count": null,
   "id": "e5697f19-fcd4-4e79-925d-21231c453f66",
   "metadata": {},
   "outputs": [],
   "source": []
  },
  {
   "cell_type": "code",
   "execution_count": null,
   "id": "95bc5e8a-cf29-470a-beb1-2c4899f39b99",
   "metadata": {},
   "outputs": [],
   "source": []
  },
  {
   "cell_type": "code",
   "execution_count": null,
   "id": "e6126dcd-b83d-44c4-ba90-3f4b0b8dd97a",
   "metadata": {},
   "outputs": [],
   "source": []
  },
  {
   "cell_type": "code",
   "execution_count": null,
   "id": "c87deb1a-2c2e-4ea6-b6b9-c103053d1612",
   "metadata": {},
   "outputs": [],
   "source": []
  },
  {
   "cell_type": "code",
   "execution_count": null,
   "id": "b633565d-0c80-45a4-ad87-a4cf87e1ae99",
   "metadata": {},
   "outputs": [],
   "source": []
  },
  {
   "cell_type": "code",
   "execution_count": null,
   "id": "aceddce2-c990-4c4a-9e86-1e580598426f",
   "metadata": {},
   "outputs": [],
   "source": []
  },
  {
   "cell_type": "code",
   "execution_count": null,
   "id": "69b7df63-2e5e-4dfa-b734-549742d6349e",
   "metadata": {},
   "outputs": [],
   "source": []
  },
  {
   "cell_type": "code",
   "execution_count": null,
   "id": "185698f7-8513-4637-816e-2879bd16f6a4",
   "metadata": {},
   "outputs": [],
   "source": []
  },
  {
   "cell_type": "code",
   "execution_count": null,
   "id": "0862e84f-933d-4e9f-ad54-0a6e6d82b502",
   "metadata": {},
   "outputs": [],
   "source": []
  },
  {
   "cell_type": "code",
   "execution_count": null,
   "id": "66b4277a-5859-4bed-8c26-3d061387f535",
   "metadata": {},
   "outputs": [],
   "source": []
  },
  {
   "cell_type": "code",
   "execution_count": null,
   "id": "75f983ad-cd0f-4c94-b69f-7a5dc84f662e",
   "metadata": {},
   "outputs": [],
   "source": []
  },
  {
   "cell_type": "code",
   "execution_count": null,
   "id": "914b8442-50f6-4272-ac49-55d27c3ced2b",
   "metadata": {},
   "outputs": [],
   "source": []
  },
  {
   "cell_type": "code",
   "execution_count": null,
   "id": "5017e4a1-ba49-41e4-b6b7-1fde38a2c30f",
   "metadata": {},
   "outputs": [],
   "source": []
  },
  {
   "cell_type": "code",
   "execution_count": null,
   "id": "7bc9c1ea-1caa-4513-957f-16945e539406",
   "metadata": {},
   "outputs": [],
   "source": []
  },
  {
   "cell_type": "code",
   "execution_count": null,
   "id": "c603d88b-03df-4d77-b42a-f26c0479289a",
   "metadata": {},
   "outputs": [],
   "source": []
  },
  {
   "cell_type": "code",
   "execution_count": null,
   "id": "e079d83a-f1cd-46ec-8fe2-2eeebaad5af7",
   "metadata": {},
   "outputs": [],
   "source": []
  },
  {
   "cell_type": "code",
   "execution_count": null,
   "id": "ff38975e-5ca2-47ff-b0a4-9bab02ef8090",
   "metadata": {},
   "outputs": [],
   "source": []
  },
  {
   "cell_type": "code",
   "execution_count": null,
   "id": "b9e5dc62-5bda-4140-bbe6-ee7dfb259a8e",
   "metadata": {},
   "outputs": [],
   "source": []
  },
  {
   "cell_type": "code",
   "execution_count": null,
   "id": "12e543e3-2145-4cd9-a15a-b736968f3fbf",
   "metadata": {},
   "outputs": [],
   "source": []
  },
  {
   "cell_type": "code",
   "execution_count": null,
   "id": "1d260a2d-3d3d-4c55-bb09-f4afd4233fc2",
   "metadata": {},
   "outputs": [],
   "source": []
  },
  {
   "cell_type": "code",
   "execution_count": null,
   "id": "ca5d398e-04d7-46f4-9070-846c7e33d1da",
   "metadata": {},
   "outputs": [],
   "source": []
  },
  {
   "cell_type": "code",
   "execution_count": null,
   "id": "24176c18-51d6-47b1-aa6c-869ba4a58195",
   "metadata": {},
   "outputs": [],
   "source": []
  },
  {
   "cell_type": "code",
   "execution_count": null,
   "id": "a1d45365-c24e-49d0-9ad2-1cf0b9053799",
   "metadata": {},
   "outputs": [],
   "source": []
  },
  {
   "cell_type": "code",
   "execution_count": null,
   "id": "8108bb07-5510-4342-bedf-45801332d6cf",
   "metadata": {},
   "outputs": [],
   "source": []
  },
  {
   "cell_type": "code",
   "execution_count": null,
   "id": "b334b585-a983-4e65-ae6d-a0d84d4e46c7",
   "metadata": {},
   "outputs": [],
   "source": []
  },
  {
   "cell_type": "code",
   "execution_count": null,
   "id": "7fba4ae9-4af5-4227-9009-954014b48273",
   "metadata": {},
   "outputs": [],
   "source": []
  },
  {
   "cell_type": "code",
   "execution_count": null,
   "id": "939f05ff-09be-46bf-b0e5-6f4e30cdead6",
   "metadata": {},
   "outputs": [],
   "source": []
  },
  {
   "cell_type": "code",
   "execution_count": null,
   "id": "191ebc1f-d020-4ca6-a6f7-5183e8e0f40f",
   "metadata": {},
   "outputs": [],
   "source": []
  },
  {
   "cell_type": "code",
   "execution_count": null,
   "id": "47eaf985-ca58-4744-9272-b9fc33fad76c",
   "metadata": {},
   "outputs": [],
   "source": []
  },
  {
   "cell_type": "code",
   "execution_count": null,
   "id": "41903741-c5d0-4a3b-b34b-7a6a8b95db79",
   "metadata": {},
   "outputs": [],
   "source": []
  },
  {
   "cell_type": "code",
   "execution_count": null,
   "id": "12bc9439-4b93-4c5d-984b-d86e422e2cd2",
   "metadata": {},
   "outputs": [],
   "source": []
  },
  {
   "cell_type": "code",
   "execution_count": null,
   "id": "7d074c16-3598-45f7-b0d5-ef032d58523e",
   "metadata": {},
   "outputs": [],
   "source": []
  },
  {
   "cell_type": "code",
   "execution_count": null,
   "id": "a72f0511-c34b-4f2c-b944-4aacc2cf2c60",
   "metadata": {},
   "outputs": [],
   "source": []
  },
  {
   "cell_type": "code",
   "execution_count": null,
   "id": "48567fe2-d1f8-4c03-9e6f-3715c80e815a",
   "metadata": {},
   "outputs": [],
   "source": []
  },
  {
   "cell_type": "code",
   "execution_count": null,
   "id": "5da20305-f86f-43c1-a76a-537ac3e04457",
   "metadata": {},
   "outputs": [],
   "source": []
  },
  {
   "cell_type": "code",
   "execution_count": null,
   "id": "925fe9ed-7c05-4287-b6c4-c003c5e85ca5",
   "metadata": {},
   "outputs": [],
   "source": []
  },
  {
   "cell_type": "code",
   "execution_count": null,
   "id": "04e88960-4f39-4e42-bc7a-5bec6890e672",
   "metadata": {},
   "outputs": [],
   "source": []
  },
  {
   "cell_type": "code",
   "execution_count": null,
   "id": "491531aa-60b6-40c4-bd08-fe4b8e94bced",
   "metadata": {},
   "outputs": [],
   "source": []
  },
  {
   "cell_type": "code",
   "execution_count": null,
   "id": "9fc55b99-ac49-4a63-9d23-08a639067d9a",
   "metadata": {},
   "outputs": [],
   "source": []
  }
 ],
 "metadata": {
  "kernelspec": {
   "display_name": "Python 3 (ipykernel)",
   "language": "python",
   "name": "python3"
  },
  "language_info": {
   "codemirror_mode": {
    "name": "ipython",
    "version": 3
   },
   "file_extension": ".py",
   "mimetype": "text/x-python",
   "name": "python",
   "nbconvert_exporter": "python",
   "pygments_lexer": "ipython3",
   "version": "3.12.4"
  }
 },
 "nbformat": 4,
 "nbformat_minor": 5
}
