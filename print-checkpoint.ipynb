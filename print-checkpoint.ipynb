{
 "cells": [
  {
   "cell_type": "code",
   "execution_count": 1,
   "id": "8e8fbdba-f8a1-4e7d-9af6-d3457bb1b7b5",
   "metadata": {},
   "outputs": [
    {
     "name": "stdout",
     "output_type": "stream",
     "text": [
      "50\n"
     ]
    }
   ],
   "source": [
    "a=20\n",
    "b=30\n",
    "c = a +b\n",
    "print(c)"
   ]
  },
  {
   "cell_type": "code",
   "execution_count": 9,
   "id": "efb832f0-8054-43f0-860b-1069195e5c64",
   "metadata": {},
   "outputs": [
    {
     "name": "stdout",
     "output_type": "stream",
     "text": [
      "The addition of50 and 60 is = 110\n"
     ]
    }
   ],
   "source": [
    "num1 = 50\n",
    "num2 = 60\n",
    "add = num1 + num2\n",
    "print(f'The addition of{num1} and {num2} is = {add}')"
   ]
  },
  {
   "cell_type": "code",
   "execution_count": 11,
   "id": "6b9bfd43-a69a-4d57-8138-3c87732c8e49",
   "metadata": {},
   "outputs": [
    {
     "name": "stdout",
     "output_type": "stream",
     "text": [
      "The addition of 50 and 60 is= 110\n"
     ]
    }
   ],
   "source": [
    "print('The addition of', num1, 'and', num2, 'is=', add)"
   ]
  },
  {
   "cell_type": "code",
   "execution_count": 15,
   "id": "2d11acf0-6aa5-4c88-a00a-475b31feff5f",
   "metadata": {},
   "outputs": [
    {
     "name": "stdout",
     "output_type": "stream",
     "text": [
      "The addition of 50 and 60 is =110\n"
     ]
    }
   ],
   "source": [
    "print('The addition of {} and {} is ={}'.format(num1,num2,add))"
   ]
  },
  {
   "cell_type": "code",
   "execution_count": 17,
   "id": "10075763-2639-4666-b722-b49b4b06fc44",
   "metadata": {},
   "outputs": [
    {
     "name": "stdout",
     "output_type": "stream",
     "text": [
      "Her name is Sonia she lives in Hyderabad\n"
     ]
    }
   ],
   "source": [
    "str1 = 'Sonia'\n",
    "str2 = 'Hyderabad'\n",
    "print('Her name is', str1,'she lives in',str2)"
   ]
  },
  {
   "cell_type": "code",
   "execution_count": 21,
   "id": "9f2de1a4-b98d-40da-a53e-a8883e797353",
   "metadata": {},
   "outputs": [
    {
     "name": "stdout",
     "output_type": "stream",
     "text": [
      "her name is Sonia she lives inHyderabad\n"
     ]
    }
   ],
   "source": [
    "print(f'her name is {str1} she lives in{str2}')"
   ]
  },
  {
   "cell_type": "code",
   "execution_count": 23,
   "id": "918db375-b1ab-4564-9f57-8d30e53e497b",
   "metadata": {},
   "outputs": [
    {
     "name": "stdout",
     "output_type": "stream",
     "text": [
      "Her name is Sonia and she lives in Hyderabad\n"
     ]
    }
   ],
   "source": [
    "print('Her name is {} and she lives in {}'.format(str1,str2))"
   ]
  },
  {
   "cell_type": "code",
   "execution_count": 29,
   "id": "d880e90e-358a-47b7-9989-25933a05611f",
   "metadata": {},
   "outputs": [
    {
     "data": {
      "text/plain": [
       "133.33"
      ]
     },
     "execution_count": 29,
     "metadata": {},
     "output_type": "execute_result"
    }
   ],
   "source": [
    "num3 =70\n",
    "avg =round(num1+num2+num3/3,2)\n",
    "avg"
   ]
  },
  {
   "cell_type": "code",
   "execution_count": 33,
   "id": "8643ab03-dd1d-4edb-be34-c03408d1516c",
   "metadata": {},
   "outputs": [
    {
     "name": "stdout",
     "output_type": "stream",
     "text": [
      "The avg of 50,60,70 is 133.33\n"
     ]
    }
   ],
   "source": [
    "print(f'The avg of {num1},{num2},{num3} is {avg}')"
   ]
  },
  {
   "cell_type": "markdown",
   "id": "2da954e5-1ddb-4efe-a560-6d696cc6430c",
   "metadata": {},
   "source": [
    "end statement"
   ]
  },
  {
   "cell_type": "code",
   "execution_count": 36,
   "id": "ae0d9334-12e3-44e5-aa8f-34f5eb6f3211",
   "metadata": {},
   "outputs": [
    {
     "name": "stdout",
     "output_type": "stream",
     "text": [
      "Hello\n",
      "world\n"
     ]
    }
   ],
   "source": [
    "print('Hello')\n",
    "print('world')"
   ]
  },
  {
   "cell_type": "code",
   "execution_count": 42,
   "id": "17d8abf4-e88f-4e68-af72-b31499ea88bc",
   "metadata": {},
   "outputs": [
    {
     "name": "stdout",
     "output_type": "stream",
     "text": [
      "hello--good morning\n"
     ]
    }
   ],
   "source": [
    "print('hello',end='--')\n",
    "print('good morning')"
   ]
  },
  {
   "cell_type": "code",
   "execution_count": null,
   "id": "da840a14-9abd-437b-95f0-157fd9fd5dcb",
   "metadata": {},
   "outputs": [],
   "source": []
  },
  {
   "cell_type": "code",
   "execution_count": null,
   "id": "85670eb4-d02d-4cd8-aec3-bbe6e544120b",
   "metadata": {},
   "outputs": [],
   "source": []
  },
  {
   "cell_type": "code",
   "execution_count": null,
   "id": "77bda15d-036a-4136-9a02-42634a2f6b1f",
   "metadata": {},
   "outputs": [],
   "source": []
  }
 ],
 "metadata": {
  "kernelspec": {
   "display_name": "Python 3 (ipykernel)",
   "language": "python",
   "name": "python3"
  },
  "language_info": {
   "codemirror_mode": {
    "name": "ipython",
    "version": 3
   },
   "file_extension": ".py",
   "mimetype": "text/x-python",
   "name": "python",
   "nbconvert_exporter": "python",
   "pygments_lexer": "ipython3",
   "version": "3.12.4"
  }
 },
 "nbformat": 4,
 "nbformat_minor": 5
}
