{
 "cells": [
  {
   "cell_type": "code",
   "execution_count": 3,
   "id": "494652dc-dea3-4638-ad14-a09a928a7e18",
   "metadata": {},
   "outputs": [
    {
     "name": "stdout",
     "output_type": "stream",
     "text": [
      "Hello there! \n",
      " How are you \n",
      " I'm fine \n",
      " thank you\n"
     ]
    }
   ],
   "source": [
    "print(\"Hello there! \\n How are you \\n I'm fine \\n thank you\")"
   ]
  },
  {
   "cell_type": "code",
   "execution_count": 5,
   "id": "fdba7673-390c-482c-86a2-87523155c492",
   "metadata": {},
   "outputs": [
    {
     "name": "stdout",
     "output_type": "stream",
     "text": [
      "Hello there! \\n How are you \\n I'm fine \\n thank you\n"
     ]
    }
   ],
   "source": [
    "print(r\"Hello there! \\n How are you \\n I'm fine \\n thank you\") \n",
    "#raw string will ignore all escape characters"
   ]
  },
  {
   "cell_type": "code",
   "execution_count": 9,
   "id": "887a784d-cc62-4baf-b7b4-4dccb41ebc9b",
   "metadata": {},
   "outputs": [
    {
     "data": {
      "text/plain": [
       "'hello world'"
      ]
     },
     "execution_count": 9,
     "metadata": {},
     "output_type": "execute_result"
    }
   ],
   "source": [
    "#string indexing\n",
    "text = \"hello world\"\n",
    "text"
   ]
  },
  {
   "cell_type": "code",
   "execution_count": 11,
   "id": "1ab03947-56f5-4178-b845-db25a1cb9f94",
   "metadata": {},
   "outputs": [
    {
     "data": {
      "text/plain": [
       "'h'"
      ]
     },
     "execution_count": 11,
     "metadata": {},
     "output_type": "execute_result"
    }
   ],
   "source": [
    "text[0]"
   ]
  },
  {
   "cell_type": "code",
   "execution_count": 13,
   "id": "06e365f3-e67e-4e21-9e07-ce554dfed57e",
   "metadata": {},
   "outputs": [
    {
     "data": {
      "text/plain": [
       "'hello world'"
      ]
     },
     "execution_count": 13,
     "metadata": {},
     "output_type": "execute_result"
    }
   ],
   "source": [
    "text[:]"
   ]
  },
  {
   "cell_type": "code",
   "execution_count": 15,
   "id": "fcc2ffcc-7ba3-476f-8fa1-d65af421bd80",
   "metadata": {},
   "outputs": [
    {
     "data": {
      "text/plain": [
       "'r'"
      ]
     },
     "execution_count": 15,
     "metadata": {},
     "output_type": "execute_result"
    }
   ],
   "source": [
    "text[-3]"
   ]
  },
  {
   "cell_type": "code",
   "execution_count": 17,
   "id": "59b738b4-1198-4f2c-9e1e-96c9a0856f96",
   "metadata": {},
   "outputs": [
    {
     "data": {
      "text/plain": [
       "'lo w'"
      ]
     },
     "execution_count": 17,
     "metadata": {},
     "output_type": "execute_result"
    }
   ],
   "source": [
    "text[3:7]"
   ]
  },
  {
   "cell_type": "code",
   "execution_count": 19,
   "id": "be3c150a-b4f4-4d95-8ba8-3e4c089b29cb",
   "metadata": {},
   "outputs": [
    {
     "data": {
      "text/plain": [
       "'dlrow olleh'"
      ]
     },
     "execution_count": 19,
     "metadata": {},
     "output_type": "execute_result"
    }
   ],
   "source": [
    "text[::-1] #reverse the string"
   ]
  },
  {
   "cell_type": "code",
   "execution_count": 21,
   "id": "64dfaccb-68cf-4bbb-9945-040c3b81ebce",
   "metadata": {},
   "outputs": [
    {
     "data": {
      "text/plain": [
       "' wor'"
      ]
     },
     "execution_count": 21,
     "metadata": {},
     "output_type": "execute_result"
    }
   ],
   "source": [
    "text[5:-2]"
   ]
  },
  {
   "cell_type": "code",
   "execution_count": 23,
   "id": "ebdc6afa-7cea-4ff2-acc8-643c6f416ec5",
   "metadata": {},
   "outputs": [
    {
     "data": {
      "text/plain": [
       "'hello worl'"
      ]
     },
     "execution_count": 23,
     "metadata": {},
     "output_type": "execute_result"
    }
   ],
   "source": [
    "text[:-1]"
   ]
  },
  {
   "cell_type": "code",
   "execution_count": 27,
   "id": "e64a87fe-edaf-4a43-964e-c9953fbc7aea",
   "metadata": {},
   "outputs": [
    {
     "data": {
      "text/plain": [
       "'world'"
      ]
     },
     "execution_count": 27,
     "metadata": {},
     "output_type": "execute_result"
    }
   ],
   "source": [
    "text1 =text[6:11]\n",
    "text1"
   ]
  },
  {
   "cell_type": "code",
   "execution_count": 31,
   "id": "725554cb-676b-4dab-9ac0-114060689db1",
   "metadata": {},
   "outputs": [
    {
     "data": {
      "text/plain": [
       "True"
      ]
     },
     "execution_count": 31,
     "metadata": {},
     "output_type": "execute_result"
    }
   ],
   "source": [
    "'hello' in 'hello world'"
   ]
  },
  {
   "cell_type": "code",
   "execution_count": 33,
   "id": "fdf79537-f9a5-4084-ba66-ad0b99ae862d",
   "metadata": {},
   "outputs": [
    {
     "data": {
      "text/plain": [
       "False"
      ]
     },
     "execution_count": 33,
     "metadata": {},
     "output_type": "execute_result"
    }
   ],
   "source": [
    "'Hello' in 'hello world'"
   ]
  },
  {
   "cell_type": "code",
   "execution_count": 35,
   "id": "62ca4cd0-c2eb-465d-ac7f-ceaa93112b03",
   "metadata": {},
   "outputs": [
    {
     "data": {
      "text/plain": [
       "True"
      ]
     },
     "execution_count": 35,
     "metadata": {},
     "output_type": "execute_result"
    }
   ],
   "source": [
    "' ' in text"
   ]
  },
  {
   "cell_type": "code",
   "execution_count": 37,
   "id": "5b837426-bdd2-47fd-89b0-ced95b56278c",
   "metadata": {},
   "outputs": [
    {
     "data": {
      "text/plain": [
       "'HELLO WORLD!'"
      ]
     },
     "execution_count": 37,
     "metadata": {},
     "output_type": "execute_result"
    }
   ],
   "source": [
    "greet = 'Hello world!'\n",
    "greet.upper()"
   ]
  },
  {
   "cell_type": "code",
   "execution_count": 39,
   "id": "0b27182d-a16d-416e-9ca5-0a9610303710",
   "metadata": {},
   "outputs": [
    {
     "data": {
      "text/plain": [
       "'hello world!'"
      ]
     },
     "execution_count": 39,
     "metadata": {},
     "output_type": "execute_result"
    }
   ],
   "source": [
    "greet.lower()"
   ]
  },
  {
   "cell_type": "code",
   "execution_count": 41,
   "id": "a3ebcbc7-a2d2-4eec-800f-d0f915c595fc",
   "metadata": {},
   "outputs": [
    {
     "data": {
      "text/plain": [
       "False"
      ]
     },
     "execution_count": 41,
     "metadata": {},
     "output_type": "execute_result"
    }
   ],
   "source": [
    "greet.istitle()"
   ]
  },
  {
   "cell_type": "code",
   "execution_count": 43,
   "id": "d80f44e9-fac7-4eda-802b-43503db101ef",
   "metadata": {},
   "outputs": [
    {
     "data": {
      "text/plain": [
       "False"
      ]
     },
     "execution_count": 43,
     "metadata": {},
     "output_type": "execute_result"
    }
   ],
   "source": [
    "greet.isalpha()"
   ]
  },
  {
   "cell_type": "code",
   "execution_count": 51,
   "id": "efcc4565-df6f-4daf-b821-0266723eafa5",
   "metadata": {},
   "outputs": [
    {
     "data": {
      "text/plain": [
       "'154781'"
      ]
     },
     "execution_count": 51,
     "metadata": {},
     "output_type": "execute_result"
    }
   ],
   "source": [
    "greet1= '154781'\n",
    "greet1"
   ]
  },
  {
   "cell_type": "code",
   "execution_count": 53,
   "id": "0b6049fb-5b35-4332-a406-a08faf180246",
   "metadata": {},
   "outputs": [
    {
     "data": {
      "text/plain": [
       "True"
      ]
     },
     "execution_count": 53,
     "metadata": {},
     "output_type": "execute_result"
    }
   ],
   "source": [
    "greet1.isdecimal()"
   ]
  },
  {
   "cell_type": "code",
   "execution_count": 55,
   "id": "69be294d-18b3-4410-bf95-a49f11f538c2",
   "metadata": {},
   "outputs": [
    {
     "data": {
      "text/plain": [
       "False"
      ]
     },
     "execution_count": 55,
     "metadata": {},
     "output_type": "execute_result"
    }
   ],
   "source": [
    "greet.isspace()"
   ]
  },
  {
   "cell_type": "markdown",
   "id": "de95b19b-bec6-4f64-8079-f6678e5922b4",
   "metadata": {},
   "source": [
    "Join(), Split()"
   ]
  },
  {
   "cell_type": "code",
   "execution_count": 60,
   "id": "e45f82d1-359b-446d-954b-249bcdecc901",
   "metadata": {},
   "outputs": [
    {
     "data": {
      "text/plain": [
       "'My name is Ryan'"
      ]
     },
     "execution_count": 60,
     "metadata": {},
     "output_type": "execute_result"
    }
   ],
   "source": [
    "' '.join(['My', 'name', 'is', 'Ryan']) "
   ]
  },
  {
   "cell_type": "code",
   "execution_count": 62,
   "id": "d59902ff-ff80-4cc2-afca-a6ca54061c1a",
   "metadata": {},
   "outputs": [
    {
     "data": {
      "text/plain": [
       "'My , name , is , Ryan'"
      ]
     },
     "execution_count": 62,
     "metadata": {},
     "output_type": "execute_result"
    }
   ],
   "source": [
    "' , '.join(['My', 'name', 'is', 'Ryan'])"
   ]
  },
  {
   "cell_type": "code",
   "execution_count": 64,
   "id": "624dbda1-1d30-44a5-96d9-3b917ede68fc",
   "metadata": {},
   "outputs": [
    {
     "data": {
      "text/plain": [
       "['My', 'name', 'is', 'Ryan']"
      ]
     },
     "execution_count": 64,
     "metadata": {},
     "output_type": "execute_result"
    }
   ],
   "source": [
    "'My name is Ryan'.split()"
   ]
  },
  {
   "cell_type": "code",
   "execution_count": 68,
   "id": "b3a6c86d-f4a9-4f48-9aed-190840ccdada",
   "metadata": {},
   "outputs": [
    {
     "data": {
      "text/plain": [
       "['My name is Ryan']"
      ]
     },
     "execution_count": 68,
     "metadata": {},
     "output_type": "execute_result"
    }
   ],
   "source": [
    "'My name is Ryan'.split('abc')"
   ]
  },
  {
   "cell_type": "code",
   "execution_count": 70,
   "id": "d8f265ac-e7b9-4a7f-98ca-3f242ca6e155",
   "metadata": {},
   "outputs": [
    {
     "data": {
      "text/plain": [
       "['My', 'name', 'is', 'Ryan']"
      ]
     },
     "execution_count": 70,
     "metadata": {},
     "output_type": "execute_result"
    }
   ],
   "source": [
    "'My123name123is123Ryan'.split('123')"
   ]
  },
  {
   "cell_type": "markdown",
   "id": "84a83164-337a-475a-a34b-a155b30a893a",
   "metadata": {},
   "source": [
    "rjust(),ljust(), center()"
   ]
  },
  {
   "cell_type": "code",
   "execution_count": 73,
   "id": "dbac6693-de1e-4d1c-bec1-658eac76d21e",
   "metadata": {},
   "outputs": [
    {
     "data": {
      "text/plain": [
       "'-----Hello'"
      ]
     },
     "execution_count": 73,
     "metadata": {},
     "output_type": "execute_result"
    }
   ],
   "source": [
    "'Hello'.rjust(10, '-')"
   ]
  },
  {
   "cell_type": "code",
   "execution_count": 75,
   "id": "c43e77be-c052-4950-b8f4-f489ab8a5a9d",
   "metadata": {},
   "outputs": [
    {
     "data": {
      "text/plain": [
       "'Hello***************'"
      ]
     },
     "execution_count": 75,
     "metadata": {},
     "output_type": "execute_result"
    }
   ],
   "source": [
    "'Hello'.ljust(20,'*')"
   ]
  },
  {
   "cell_type": "code",
   "execution_count": 83,
   "id": "6880473c-a83b-4550-8105-de195fab0937",
   "metadata": {},
   "outputs": [
    {
     "data": {
      "text/plain": [
       "'*******Hello********'"
      ]
     },
     "execution_count": 83,
     "metadata": {},
     "output_type": "execute_result"
    }
   ],
   "source": [
    "'Hello'.center(20,'*')"
   ]
  },
  {
   "cell_type": "markdown",
   "id": "4fdff319-b9cf-4807-9470-9562a91a6449",
   "metadata": {},
   "source": [
    "count()"
   ]
  },
  {
   "cell_type": "code",
   "execution_count": 98,
   "id": "bfcdd569-e606-4d32-a62d-2f57f75a6937",
   "metadata": {},
   "outputs": [
    {
     "data": {
      "text/plain": [
       "3"
      ]
     },
     "execution_count": 98,
     "metadata": {},
     "output_type": "execute_result"
    }
   ],
   "source": [
    "text3 = 'One circle two circle three circle four'\n",
    "text3.count(' circle')"
   ]
  },
  {
   "cell_type": "code",
   "execution_count": 102,
   "id": "ed520e66-548c-4658-aed0-cd8bed5bcdbd",
   "metadata": {},
   "outputs": [
    {
     "data": {
      "text/plain": [
       "6"
      ]
     },
     "execution_count": 102,
     "metadata": {},
     "output_type": "execute_result"
    }
   ],
   "source": [
    "text3.count('c')"
   ]
  },
  {
   "cell_type": "markdown",
   "id": "afd2c7bd-a930-4e66-a177-9cd9f73fd49c",
   "metadata": {},
   "source": [
    "replace()"
   ]
  },
  {
   "cell_type": "code",
   "execution_count": 105,
   "id": "524ba2ac-46de-4374-830b-3daa65b1ca1d",
   "metadata": {},
   "outputs": [
    {
     "data": {
      "text/plain": [
       "'I like apples and oranges'"
      ]
     },
     "execution_count": 105,
     "metadata": {},
     "output_type": "execute_result"
    }
   ],
   "source": [
    "text4 = 'I like apples and oranges'\n",
    "text4"
   ]
  },
  {
   "cell_type": "code",
   "execution_count": 107,
   "id": "159aeeaa-f96f-4116-be74-c14a235f73dc",
   "metadata": {},
   "outputs": [
    {
     "data": {
      "text/plain": [
       "'I like grapes and oranges'"
      ]
     },
     "execution_count": 107,
     "metadata": {},
     "output_type": "execute_result"
    }
   ],
   "source": [
    "text4.replace(\"apples\", \"grapes\")"
   ]
  },
  {
   "cell_type": "code",
   "execution_count": null,
   "id": "d875a22f-45d2-411a-a7e3-7f061e4e9d84",
   "metadata": {},
   "outputs": [],
   "source": []
  },
  {
   "cell_type": "code",
   "execution_count": null,
   "id": "e4ea4259-a131-42a2-a96a-18d5b4e067d4",
   "metadata": {},
   "outputs": [],
   "source": []
  },
  {
   "cell_type": "code",
   "execution_count": null,
   "id": "0d52ea2d-78f3-40a4-bd9e-7883035066bf",
   "metadata": {},
   "outputs": [],
   "source": []
  },
  {
   "cell_type": "code",
   "execution_count": null,
   "id": "8f3384b2-6044-4e5a-ab4c-b8f583dddceb",
   "metadata": {},
   "outputs": [],
   "source": []
  }
 ],
 "metadata": {
  "kernelspec": {
   "display_name": "Python 3 (ipykernel)",
   "language": "python",
   "name": "python3"
  },
  "language_info": {
   "codemirror_mode": {
    "name": "ipython",
    "version": 3
   },
   "file_extension": ".py",
   "mimetype": "text/x-python",
   "name": "python",
   "nbconvert_exporter": "python",
   "pygments_lexer": "ipython3",
   "version": "3.12.4"
  }
 },
 "nbformat": 4,
 "nbformat_minor": 5
}
