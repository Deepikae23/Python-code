{
 "cells": [
  {
   "cell_type": "code",
   "execution_count": 3,
   "id": "0a89b50b-cc47-4e02-88bc-64cf92d6591a",
   "metadata": {},
   "outputs": [],
   "source": [
    "import numpy as np"
   ]
  },
  {
   "cell_type": "code",
   "execution_count": 5,
   "id": "749a3164-93c0-4800-b38a-b571f6a4232d",
   "metadata": {
    "scrolled": true
   },
   "outputs": [
    {
     "ename": "NameError",
     "evalue": "name 'sys' is not defined",
     "output_type": "error",
     "traceback": [
      "\u001b[1;31m---------------------------------------------------------------------------\u001b[0m",
      "\u001b[1;31mNameError\u001b[0m                                 Traceback (most recent call last)",
      "Cell \u001b[1;32mIn[5], line 1\u001b[0m\n\u001b[1;32m----> 1\u001b[0m sys\u001b[38;5;241m.\u001b[39m_version_\n",
      "\u001b[1;31mNameError\u001b[0m: name 'sys' is not defined"
     ]
    }
   ],
   "source": [
    "#sys._version_"
   ]
  },
  {
   "cell_type": "code",
   "execution_count": 3,
   "id": "897492f6-3956-44e4-bcb9-fbf0af1d9ce0",
   "metadata": {},
   "outputs": [
    {
     "data": {
      "text/plain": [
       "[0, 1, 2, 3, 4, 5]"
      ]
     },
     "execution_count": 3,
     "metadata": {},
     "output_type": "execute_result"
    }
   ],
   "source": [
    "my_list= [ 0,1,2,3,4,5]\n",
    "my_list"
   ]
  },
  {
   "cell_type": "code",
   "execution_count": 4,
   "id": "1e3c8824-379a-4136-bca9-07af8bdebffc",
   "metadata": {},
   "outputs": [
    {
     "data": {
      "text/plain": [
       "list"
      ]
     },
     "execution_count": 4,
     "metadata": {},
     "output_type": "execute_result"
    }
   ],
   "source": [
    "type(my_list)"
   ]
  },
  {
   "cell_type": "code",
   "execution_count": 5,
   "id": "3456874a-27c2-4691-b649-a813a970e001",
   "metadata": {},
   "outputs": [
    {
     "data": {
      "text/plain": [
       "array([0, 1, 2, 3, 4, 5])"
      ]
     },
     "execution_count": 5,
     "metadata": {},
     "output_type": "execute_result"
    }
   ],
   "source": [
    "arr=np.array(my_list)\n",
    "arr"
   ]
  },
  {
   "cell_type": "code",
   "execution_count": 6,
   "id": "250845bf-6687-44b0-9642-37db8e06e3cc",
   "metadata": {},
   "outputs": [
    {
     "data": {
      "text/plain": [
       "numpy.ndarray"
      ]
     },
     "execution_count": 6,
     "metadata": {},
     "output_type": "execute_result"
    }
   ],
   "source": [
    "type(arr)"
   ]
  },
  {
   "cell_type": "code",
   "execution_count": 7,
   "id": "0eb1cbee-8443-4c73-ac3a-248deb8748ad",
   "metadata": {},
   "outputs": [
    {
     "data": {
      "text/plain": [
       "'nitnit'"
      ]
     },
     "execution_count": 7,
     "metadata": {},
     "output_type": "execute_result"
    }
   ],
   "source": [
    "'nit'+'nit'"
   ]
  },
  {
   "cell_type": "code",
   "execution_count": 8,
   "id": "94699c5a-59c7-4fa1-a586-461898ba5385",
   "metadata": {},
   "outputs": [
    {
     "data": {
      "text/plain": [
       "'nitnit'"
      ]
     },
     "execution_count": 8,
     "metadata": {},
     "output_type": "execute_result"
    }
   ],
   "source": [
    "'nit' 'nit'"
   ]
  },
  {
   "cell_type": "code",
   "execution_count": 9,
   "id": "1b83c018-a457-4cde-aa71-c8dca987a9f4",
   "metadata": {},
   "outputs": [
    {
     "data": {
      "text/plain": [
       "' nit nit nit nit nit'"
      ]
     },
     "execution_count": 9,
     "metadata": {},
     "output_type": "execute_result"
    }
   ],
   "source": [
    "5*' nit'"
   ]
  },
  {
   "cell_type": "code",
   "execution_count": 10,
   "id": "68418de3-4df6-4cbf-a1f0-5b4de658d078",
   "metadata": {},
   "outputs": [
    {
     "name": "stdout",
     "output_type": "stream",
     "text": [
      "c:\n",
      "it\n"
     ]
    }
   ],
   "source": [
    "print('c:\\nit')"
   ]
  },
  {
   "cell_type": "code",
   "execution_count": 11,
   "id": "df782589-047f-4661-b415-6607058e6ebf",
   "metadata": {},
   "outputs": [
    {
     "name": "stdout",
     "output_type": "stream",
     "text": [
      "c:\\nit\n"
     ]
    }
   ],
   "source": [
    "print(r'c:\\nit')"
   ]
  },
  {
   "cell_type": "code",
   "execution_count": 12,
   "id": "e17391c9-b147-428a-beb7-3a9a865e8f31",
   "metadata": {},
   "outputs": [],
   "source": [
    "x= 3\n",
    "y=9"
   ]
  },
  {
   "cell_type": "code",
   "execution_count": 13,
   "id": "9fd04882-af00-4577-a5e6-7efaa424968c",
   "metadata": {},
   "outputs": [
    {
     "data": {
      "text/plain": [
       "12"
      ]
     },
     "execution_count": 13,
     "metadata": {},
     "output_type": "execute_result"
    }
   ],
   "source": [
    "x+y"
   ]
  },
  {
   "cell_type": "code",
   "execution_count": 14,
   "id": "7db13626-de60-4d92-88e6-47067c1d4328",
   "metadata": {},
   "outputs": [
    {
     "data": {
      "text/plain": [
       "21"
      ]
     },
     "execution_count": 14,
     "metadata": {},
     "output_type": "execute_result"
    }
   ],
   "source": [
    "_ + y"
   ]
  },
  {
   "cell_type": "code",
   "execution_count": 15,
   "id": "a907a6b3-8ea2-4248-9a0a-bf33007a3718",
   "metadata": {},
   "outputs": [
    {
     "data": {
      "text/plain": [
       "6"
      ]
     },
     "execution_count": 15,
     "metadata": {},
     "output_type": "execute_result"
    }
   ],
   "source": [
    "y - x"
   ]
  },
  {
   "cell_type": "code",
   "execution_count": 16,
   "id": "bf4ac34c-cd7e-4f8a-9046-67c594bc1ddf",
   "metadata": {},
   "outputs": [],
   "source": [
    "name = 'mit'"
   ]
  },
  {
   "cell_type": "code",
   "execution_count": 17,
   "id": "38efdcb5-c980-4731-aec6-5367a8203410",
   "metadata": {},
   "outputs": [
    {
     "data": {
      "text/plain": [
       "'mit technology'"
      ]
     },
     "execution_count": 17,
     "metadata": {},
     "output_type": "execute_result"
    }
   ],
   "source": [
    "name + ' technology'"
   ]
  },
  {
   "cell_type": "code",
   "execution_count": 18,
   "id": "798dffa4-a54f-4bf0-a1ba-11afaffb5e5f",
   "metadata": {},
   "outputs": [
    {
     "data": {
      "text/plain": [
       "'mit technology'"
      ]
     },
     "execution_count": 18,
     "metadata": {},
     "output_type": "execute_result"
    }
   ],
   "source": [
    "'mit' ' technology'"
   ]
  },
  {
   "cell_type": "code",
   "execution_count": 19,
   "id": "d7d5c292-647a-4dc8-b481-04cffb4ea08a",
   "metadata": {},
   "outputs": [
    {
     "data": {
      "text/plain": [
       "3"
      ]
     },
     "execution_count": 19,
     "metadata": {},
     "output_type": "execute_result"
    }
   ],
   "source": [
    "len(name)"
   ]
  },
  {
   "cell_type": "code",
   "execution_count": 20,
   "id": "99a71d82-dd65-469e-8c43-214645117fcf",
   "metadata": {},
   "outputs": [
    {
     "data": {
      "text/plain": [
       "'mit'"
      ]
     },
     "execution_count": 20,
     "metadata": {},
     "output_type": "execute_result"
    }
   ],
   "source": [
    "name"
   ]
  },
  {
   "cell_type": "code",
   "execution_count": 21,
   "id": "5c9040ab-293c-4db9-b54e-21aceca5dcb6",
   "metadata": {},
   "outputs": [
    {
     "data": {
      "text/plain": [
       "'t'"
      ]
     },
     "execution_count": 21,
     "metadata": {},
     "output_type": "execute_result"
    }
   ],
   "source": [
    "name[2]"
   ]
  },
  {
   "cell_type": "code",
   "execution_count": 22,
   "id": "945a9796-85f4-4096-9f6c-fc78d3800fc5",
   "metadata": {},
   "outputs": [],
   "source": [
    "name1 = 'fine'"
   ]
  },
  {
   "cell_type": "code",
   "execution_count": 23,
   "id": "55e79e08-2842-4155-b578-7e789ca80eac",
   "metadata": {},
   "outputs": [
    {
     "data": {
      "text/plain": [
       "'fine'"
      ]
     },
     "execution_count": 23,
     "metadata": {},
     "output_type": "execute_result"
    }
   ],
   "source": [
    "name1"
   ]
  },
  {
   "cell_type": "code",
   "execution_count": 40,
   "id": "acfa1bb0-5bb1-4753-ab23-de587c2968c3",
   "metadata": {},
   "outputs": [
    {
     "ename": "TypeError",
     "evalue": "'str' object does not support item assignment",
     "output_type": "error",
     "traceback": [
      "\u001b[1;31m---------------------------------------------------------------------------\u001b[0m",
      "\u001b[1;31mTypeError\u001b[0m                                 Traceback (most recent call last)",
      "Cell \u001b[1;32mIn[40], line 1\u001b[0m\n\u001b[1;32m----> 1\u001b[0m name1[\u001b[38;5;241m0\u001b[39m] \u001b[38;5;241m=\u001b[39m \u001b[38;5;124m'\u001b[39m\u001b[38;5;124md\u001b[39m\u001b[38;5;124m'\u001b[39m\n",
      "\u001b[1;31mTypeError\u001b[0m: 'str' object does not support item assignment"
     ]
    }
   ],
   "source": [
    "name1[0] = 'd'"
   ]
  },
  {
   "cell_type": "code",
   "execution_count": 42,
   "id": "32a968d6-73f5-4931-b323-07c65c55e25a",
   "metadata": {},
   "outputs": [
    {
     "data": {
      "text/plain": [
       "'ine'"
      ]
     },
     "execution_count": 42,
     "metadata": {},
     "output_type": "execute_result"
    }
   ],
   "source": [
    "name1[1:]"
   ]
  },
  {
   "cell_type": "code",
   "execution_count": 44,
   "id": "60ed0bff-5245-4bde-b0f5-367ca0827c02",
   "metadata": {},
   "outputs": [
    {
     "data": {
      "text/plain": [
       "'dine'"
      ]
     },
     "execution_count": 44,
     "metadata": {},
     "output_type": "execute_result"
    }
   ],
   "source": [
    "'d' +name1[1:]"
   ]
  },
  {
   "cell_type": "code",
   "execution_count": 46,
   "id": "6d5b2d9e-ff6a-41a2-98da-961c7e34bfcf",
   "metadata": {},
   "outputs": [],
   "source": [
    "#help()"
   ]
  },
  {
   "cell_type": "code",
   "execution_count": 47,
   "id": "7c92d34c-3f24-4014-ab3d-36cfe765427a",
   "metadata": {},
   "outputs": [],
   "source": [
    "x1 = 2\n",
    "y1 = 4"
   ]
  },
  {
   "cell_type": "code",
   "execution_count": 48,
   "id": "1c52d1f0-1f6f-4bf1-8dc9-f90d584d8f4a",
   "metadata": {},
   "outputs": [
    {
     "data": {
      "text/plain": [
       "6"
      ]
     },
     "execution_count": 48,
     "metadata": {},
     "output_type": "execute_result"
    }
   ],
   "source": [
    "x1 + y1"
   ]
  },
  {
   "cell_type": "code",
   "execution_count": 49,
   "id": "43bd9069-dd13-472c-a9c4-e2117d4037f0",
   "metadata": {},
   "outputs": [
    {
     "data": {
      "text/plain": [
       "16"
      ]
     },
     "execution_count": 49,
     "metadata": {},
     "output_type": "execute_result"
    }
   ],
   "source": [
    "x1 ** y1"
   ]
  },
  {
   "cell_type": "code",
   "execution_count": 50,
   "id": "4d4e6824-f689-4977-883f-0ab24752cf95",
   "metadata": {},
   "outputs": [
    {
     "data": {
      "text/plain": [
       "16"
      ]
     },
     "execution_count": 50,
     "metadata": {},
     "output_type": "execute_result"
    }
   ],
   "source": [
    "y1 **x1"
   ]
  },
  {
   "cell_type": "code",
   "execution_count": 51,
   "id": "04a29bc1-bb8d-4dcf-b28f-dcd0e9ca10ff",
   "metadata": {},
   "outputs": [
    {
     "data": {
      "text/plain": [
       "0"
      ]
     },
     "execution_count": 51,
     "metadata": {},
     "output_type": "execute_result"
    }
   ],
   "source": [
    "x1 // y1"
   ]
  },
  {
   "cell_type": "code",
   "execution_count": 52,
   "id": "b3a2d803-e83f-4370-9a85-dff4c8684efe",
   "metadata": {},
   "outputs": [
    {
     "data": {
      "text/plain": [
       "2"
      ]
     },
     "execution_count": 52,
     "metadata": {},
     "output_type": "execute_result"
    }
   ],
   "source": [
    "y1 // x1"
   ]
  },
  {
   "cell_type": "code",
   "execution_count": 53,
   "id": "9e74b28c-c37d-417e-8b82-96dbc8aff270",
   "metadata": {},
   "outputs": [
    {
     "data": {
      "text/plain": [
       "-2"
      ]
     },
     "execution_count": 53,
     "metadata": {},
     "output_type": "execute_result"
    }
   ],
   "source": [
    "x1 - y1"
   ]
  },
  {
   "cell_type": "code",
   "execution_count": 54,
   "id": "6c73b72d-d957-4960-b457-4b95f9dc9a6d",
   "metadata": {},
   "outputs": [
    {
     "data": {
      "text/plain": [
       "2"
      ]
     },
     "execution_count": 54,
     "metadata": {},
     "output_type": "execute_result"
    }
   ],
   "source": [
    "x1 % y1"
   ]
  },
  {
   "cell_type": "code",
   "execution_count": 55,
   "id": "0b8bc1dd-5f4a-4c74-aace-6eb66f92bdb6",
   "metadata": {},
   "outputs": [],
   "source": [
    "x = 2"
   ]
  },
  {
   "cell_type": "code",
   "execution_count": 56,
   "id": "0c84a2b8-4b3e-4898-a8d1-5a97f296b4e5",
   "metadata": {},
   "outputs": [],
   "source": [
    "x =x+2"
   ]
  },
  {
   "cell_type": "code",
   "execution_count": 57,
   "id": "cc59b13a-7d74-42f0-8e64-a5113bd3f402",
   "metadata": {},
   "outputs": [
    {
     "data": {
      "text/plain": [
       "6"
      ]
     },
     "execution_count": 57,
     "metadata": {},
     "output_type": "execute_result"
    }
   ],
   "source": [
    "x += 2\n",
    "x"
   ]
  },
  {
   "cell_type": "code",
   "execution_count": 58,
   "id": "8be58006-b518-481f-95bb-9486e20da4b7",
   "metadata": {},
   "outputs": [
    {
     "data": {
      "text/plain": [
       "12"
      ]
     },
     "execution_count": 58,
     "metadata": {},
     "output_type": "execute_result"
    }
   ],
   "source": [
    "x *= 2\n",
    "x"
   ]
  },
  {
   "cell_type": "code",
   "execution_count": 59,
   "id": "5de245d2-fb50-459f-83a6-6464ca047c01",
   "metadata": {},
   "outputs": [
    {
     "data": {
      "text/plain": [
       "10"
      ]
     },
     "execution_count": 59,
     "metadata": {},
     "output_type": "execute_result"
    }
   ],
   "source": [
    "x -= 2\n",
    "x"
   ]
  },
  {
   "cell_type": "code",
   "execution_count": 60,
   "id": "eb1748b3-71de-4297-8203-8222d7b2e5de",
   "metadata": {},
   "outputs": [
    {
     "data": {
      "text/plain": [
       "5.0"
      ]
     },
     "execution_count": 60,
     "metadata": {},
     "output_type": "execute_result"
    }
   ],
   "source": [
    "x /= 2\n",
    "x"
   ]
  },
  {
   "cell_type": "code",
   "execution_count": 61,
   "id": "205bcb15-47bc-43aa-8f07-2ae4bdc12c29",
   "metadata": {},
   "outputs": [
    {
     "data": {
      "text/plain": [
       "7"
      ]
     },
     "execution_count": 61,
     "metadata": {},
     "output_type": "execute_result"
    }
   ],
   "source": [
    "n = 7\n",
    "n"
   ]
  },
  {
   "cell_type": "code",
   "execution_count": 62,
   "id": "80f05b96-a69d-4e18-bc5a-3e79c5a4f01a",
   "metadata": {},
   "outputs": [
    {
     "data": {
      "text/plain": [
       "-7"
      ]
     },
     "execution_count": 62,
     "metadata": {},
     "output_type": "execute_result"
    }
   ],
   "source": [
    "m = -(n)\n",
    "m"
   ]
  },
  {
   "cell_type": "code",
   "execution_count": 63,
   "id": "029ae07b-aa61-464b-b2bf-330c6b76136d",
   "metadata": {},
   "outputs": [],
   "source": [
    "a = 8\n",
    "b = 6"
   ]
  },
  {
   "cell_type": "code",
   "execution_count": 64,
   "id": "0b47ef1b-397f-4a0d-9812-0cef73c152ca",
   "metadata": {},
   "outputs": [
    {
     "data": {
      "text/plain": [
       "False"
      ]
     },
     "execution_count": 64,
     "metadata": {},
     "output_type": "execute_result"
    }
   ],
   "source": [
    "a < b"
   ]
  },
  {
   "cell_type": "code",
   "execution_count": 65,
   "id": "53f41c59-529e-4679-a54c-c84c8f2e8fcf",
   "metadata": {},
   "outputs": [
    {
     "data": {
      "text/plain": [
       "True"
      ]
     },
     "execution_count": 65,
     "metadata": {},
     "output_type": "execute_result"
    }
   ],
   "source": [
    "a > b"
   ]
  },
  {
   "cell_type": "code",
   "execution_count": 86,
   "id": "10592ee2-6071-4b13-91a9-ab36e9d33adb",
   "metadata": {},
   "outputs": [
    {
     "data": {
      "text/plain": [
       "False"
      ]
     },
     "execution_count": 86,
     "metadata": {},
     "output_type": "execute_result"
    }
   ],
   "source": [
    "a == b"
   ]
  },
  {
   "cell_type": "code",
   "execution_count": 88,
   "id": "eb8dbe23-7081-4b57-8519-af38a9302f98",
   "metadata": {},
   "outputs": [
    {
     "data": {
      "text/plain": [
       "True"
      ]
     },
     "execution_count": 88,
     "metadata": {},
     "output_type": "execute_result"
    }
   ],
   "source": [
    "a != b"
   ]
  },
  {
   "cell_type": "code",
   "execution_count": 90,
   "id": "8d083715-4bee-4b0d-b6aa-68101cd219de",
   "metadata": {},
   "outputs": [],
   "source": [
    "b = 8"
   ]
  },
  {
   "cell_type": "code",
   "execution_count": 92,
   "id": "5fc7f507-7d91-4dcf-8a74-3ac5b08794c2",
   "metadata": {},
   "outputs": [
    {
     "data": {
      "text/plain": [
       "True"
      ]
     },
     "execution_count": 92,
     "metadata": {},
     "output_type": "execute_result"
    }
   ],
   "source": [
    "a == b"
   ]
  },
  {
   "cell_type": "code",
   "execution_count": 94,
   "id": "1e1d834f-9698-4e46-8605-f4cd606d3ce8",
   "metadata": {},
   "outputs": [
    {
     "data": {
      "text/plain": [
       "True"
      ]
     },
     "execution_count": 94,
     "metadata": {},
     "output_type": "execute_result"
    }
   ],
   "source": [
    "a >= b"
   ]
  },
  {
   "cell_type": "code",
   "execution_count": 96,
   "id": "25355cd0-0935-4c73-ab06-4e4af70a4afa",
   "metadata": {},
   "outputs": [
    {
     "data": {
      "text/plain": [
       "True"
      ]
     },
     "execution_count": 96,
     "metadata": {},
     "output_type": "execute_result"
    }
   ],
   "source": [
    "a <= b"
   ]
  },
  {
   "cell_type": "code",
   "execution_count": 98,
   "id": "1ff06c16-be29-40dc-98d4-e22d6dbb7b3e",
   "metadata": {},
   "outputs": [
    {
     "data": {
      "text/plain": [
       "False"
      ]
     },
     "execution_count": 98,
     "metadata": {},
     "output_type": "execute_result"
    }
   ],
   "source": [
    "a<b"
   ]
  },
  {
   "cell_type": "code",
   "execution_count": 100,
   "id": "e91f90c0-bf42-45a4-b0bf-83a6779e50b7",
   "metadata": {},
   "outputs": [
    {
     "data": {
      "text/plain": [
       "False"
      ]
     },
     "execution_count": 100,
     "metadata": {},
     "output_type": "execute_result"
    }
   ],
   "source": [
    "a>b"
   ]
  },
  {
   "cell_type": "code",
   "execution_count": 102,
   "id": "5477381d-4b3f-4a19-85d4-cd533abf77f8",
   "metadata": {},
   "outputs": [],
   "source": [
    "a=5\n",
    "b=6"
   ]
  },
  {
   "cell_type": "code",
   "execution_count": 104,
   "id": "0decc771-0d0d-4c81-96d9-ea29b783557d",
   "metadata": {},
   "outputs": [],
   "source": [
    "a,b = b,a"
   ]
  },
  {
   "cell_type": "code",
   "execution_count": 106,
   "id": "408d889e-7117-49e5-ab5f-61b654bb6ae6",
   "metadata": {},
   "outputs": [
    {
     "name": "stdout",
     "output_type": "stream",
     "text": [
      "6\n",
      "5\n"
     ]
    }
   ],
   "source": [
    "print(a)\n",
    "print(b)"
   ]
  },
  {
   "cell_type": "code",
   "execution_count": 108,
   "id": "42c9c483-82f4-4789-a544-3695e0a6caef",
   "metadata": {},
   "outputs": [],
   "source": [
    "temp = a\n",
    "a =b \n",
    "b = temp"
   ]
  },
  {
   "cell_type": "code",
   "execution_count": 110,
   "id": "25f3c1eb-6218-48d1-8216-8cd6d30bb67e",
   "metadata": {},
   "outputs": [
    {
     "name": "stdout",
     "output_type": "stream",
     "text": [
      "5\n",
      "6\n"
     ]
    }
   ],
   "source": [
    "print(a)\n",
    "print(b)"
   ]
  },
  {
   "cell_type": "code",
   "execution_count": 112,
   "id": "da6f697e-6f44-40e0-abc2-51383e6e4030",
   "metadata": {},
   "outputs": [
    {
     "name": "stdout",
     "output_type": "stream",
     "text": [
      "0b1100\n",
      "0b11001\n"
     ]
    }
   ],
   "source": [
    "print(bin(12))\n",
    "print(bin(25))"
   ]
  },
  {
   "cell_type": "code",
   "execution_count": 114,
   "id": "dcf961a5-1b53-4229-883d-bc3ccb1fa2a2",
   "metadata": {},
   "outputs": [
    {
     "data": {
      "text/plain": [
       "-13"
      ]
     },
     "execution_count": 114,
     "metadata": {},
     "output_type": "execute_result"
    }
   ],
   "source": [
    "~12"
   ]
  },
  {
   "cell_type": "code",
   "execution_count": 116,
   "id": "95447541-8329-4975-b997-b2fbf3410574",
   "metadata": {},
   "outputs": [
    {
     "data": {
      "text/plain": [
       "-47"
      ]
     },
     "execution_count": 116,
     "metadata": {},
     "output_type": "execute_result"
    }
   ],
   "source": [
    "~46"
   ]
  },
  {
   "cell_type": "code",
   "execution_count": 118,
   "id": "532163a1-ccdf-403f-9a91-c70accbb73ba",
   "metadata": {},
   "outputs": [
    {
     "data": {
      "text/plain": [
       "-55"
      ]
     },
     "execution_count": 118,
     "metadata": {},
     "output_type": "execute_result"
    }
   ],
   "source": [
    "~54"
   ]
  },
  {
   "cell_type": "code",
   "execution_count": 120,
   "id": "9bd2cbb4-067a-459e-8429-d46d9a264377",
   "metadata": {},
   "outputs": [
    {
     "data": {
      "text/plain": [
       "12"
      ]
     },
     "execution_count": 120,
     "metadata": {},
     "output_type": "execute_result"
    }
   ],
   "source": [
    "12 & 13"
   ]
  },
  {
   "cell_type": "code",
   "execution_count": 122,
   "id": "a8d75648-2614-4333-b2ff-fe088dcb16b6",
   "metadata": {},
   "outputs": [
    {
     "data": {
      "text/plain": [
       "13"
      ]
     },
     "execution_count": 122,
     "metadata": {},
     "output_type": "execute_result"
    }
   ],
   "source": [
    "12 | 13"
   ]
  },
  {
   "cell_type": "code",
   "execution_count": 124,
   "id": "f932d18b-da9c-4409-9f23-1792aca5c027",
   "metadata": {},
   "outputs": [
    {
     "data": {
      "text/plain": [
       "0"
      ]
     },
     "execution_count": 124,
     "metadata": {},
     "output_type": "execute_result"
    }
   ],
   "source": [
    "1 & 0"
   ]
  },
  {
   "cell_type": "code",
   "execution_count": 126,
   "id": "ae6f6d63-2ce5-4883-9daa-a14c015af3f4",
   "metadata": {},
   "outputs": [
    {
     "data": {
      "text/plain": [
       "1"
      ]
     },
     "execution_count": 126,
     "metadata": {},
     "output_type": "execute_result"
    }
   ],
   "source": [
    "1 | 0"
   ]
  },
  {
   "cell_type": "code",
   "execution_count": 128,
   "id": "6fc9e5a1-d6d9-4ae7-bc92-e2ca62f85951",
   "metadata": {},
   "outputs": [
    {
     "name": "stdout",
     "output_type": "stream",
     "text": [
      "0b100011\n",
      "0b101101\n"
     ]
    }
   ],
   "source": [
    "print(bin(35))\n",
    "print(bin(45))"
   ]
  },
  {
   "cell_type": "code",
   "execution_count": 130,
   "id": "ea8aeced-e382-45bb-9578-ba0af47e50c0",
   "metadata": {},
   "outputs": [
    {
     "data": {
      "text/plain": [
       "33"
      ]
     },
     "execution_count": 130,
     "metadata": {},
     "output_type": "execute_result"
    }
   ],
   "source": [
    "35 & 45"
   ]
  },
  {
   "cell_type": "code",
   "execution_count": 132,
   "id": "f067d926-0601-4335-8f58-561df372c091",
   "metadata": {},
   "outputs": [
    {
     "data": {
      "text/plain": [
       "47"
      ]
     },
     "execution_count": 132,
     "metadata": {},
     "output_type": "execute_result"
    }
   ],
   "source": [
    "35 | 45"
   ]
  },
  {
   "cell_type": "code",
   "execution_count": 134,
   "id": "60837045-0034-4891-9444-e264b2143a55",
   "metadata": {},
   "outputs": [
    {
     "data": {
      "text/plain": [
       "1"
      ]
     },
     "execution_count": 134,
     "metadata": {},
     "output_type": "execute_result"
    }
   ],
   "source": [
    "12 ^ 13"
   ]
  },
  {
   "cell_type": "code",
   "execution_count": 136,
   "id": "9a88d76b-25d2-4cc5-9b60-0cf7f13ee346",
   "metadata": {},
   "outputs": [
    {
     "data": {
      "text/plain": [
       "7"
      ]
     },
     "execution_count": 136,
     "metadata": {},
     "output_type": "execute_result"
    }
   ],
   "source": [
    "25 ^ 30"
   ]
  },
  {
   "cell_type": "code",
   "execution_count": 138,
   "id": "3b2b1793-67a9-4c4c-970d-e0cc3589fa03",
   "metadata": {},
   "outputs": [
    {
     "name": "stdout",
     "output_type": "stream",
     "text": [
      "0b11001\n",
      "0b11110\n"
     ]
    }
   ],
   "source": [
    "print(bin(25))\n",
    "print(bin(30))"
   ]
  },
  {
   "cell_type": "code",
   "execution_count": 140,
   "id": "7eccd1c8-e1c4-465a-9779-4f51b82b17ce",
   "metadata": {},
   "outputs": [
    {
     "data": {
      "text/plain": [
       "'0b1010'"
      ]
     },
     "execution_count": 140,
     "metadata": {},
     "output_type": "execute_result"
    }
   ],
   "source": [
    "bin(10)"
   ]
  },
  {
   "cell_type": "code",
   "execution_count": 142,
   "id": "7c089dec-0891-41d8-93a2-99a615800a56",
   "metadata": {},
   "outputs": [
    {
     "data": {
      "text/plain": [
       "20"
      ]
     },
     "execution_count": 142,
     "metadata": {},
     "output_type": "execute_result"
    }
   ],
   "source": [
    "10<<1"
   ]
  },
  {
   "cell_type": "code",
   "execution_count": 144,
   "id": "aad8e3fa-63a2-426c-9938-fe84a5152667",
   "metadata": {},
   "outputs": [
    {
     "data": {
      "text/plain": [
       "40"
      ]
     },
     "execution_count": 144,
     "metadata": {},
     "output_type": "execute_result"
    }
   ],
   "source": [
    "10<<2"
   ]
  },
  {
   "cell_type": "code",
   "execution_count": 146,
   "id": "951541af-7999-480f-9358-156253fbce5e",
   "metadata": {},
   "outputs": [
    {
     "ename": "NameError",
     "evalue": "name 'sqrt' is not defined",
     "output_type": "error",
     "traceback": [
      "\u001b[1;31m---------------------------------------------------------------------------\u001b[0m",
      "\u001b[1;31mNameError\u001b[0m                                 Traceback (most recent call last)",
      "Cell \u001b[1;32mIn[146], line 1\u001b[0m\n\u001b[1;32m----> 1\u001b[0m x \u001b[38;5;241m=\u001b[39m sqrt(\u001b[38;5;241m25\u001b[39m)\n",
      "\u001b[1;31mNameError\u001b[0m: name 'sqrt' is not defined"
     ]
    }
   ],
   "source": [
    "x = sqrt(25)"
   ]
  },
  {
   "cell_type": "code",
   "execution_count": 148,
   "id": "aff6284e-1195-4b91-a910-7935a0bbc2b3",
   "metadata": {},
   "outputs": [],
   "source": [
    "import math"
   ]
  },
  {
   "cell_type": "code",
   "execution_count": 152,
   "id": "318e6c3a-eae7-4d15-badb-f8fa6e3e9283",
   "metadata": {},
   "outputs": [
    {
     "ename": "NameError",
     "evalue": "name 'sqrt' is not defined",
     "output_type": "error",
     "traceback": [
      "\u001b[1;31m---------------------------------------------------------------------------\u001b[0m",
      "\u001b[1;31mNameError\u001b[0m                                 Traceback (most recent call last)",
      "Cell \u001b[1;32mIn[152], line 1\u001b[0m\n\u001b[1;32m----> 1\u001b[0m x \u001b[38;5;241m=\u001b[39m sqrt(\u001b[38;5;241m25\u001b[39m)\n",
      "\u001b[1;31mNameError\u001b[0m: name 'sqrt' is not defined"
     ]
    }
   ],
   "source": [
    "x = sqrt(25)"
   ]
  },
  {
   "cell_type": "code",
   "execution_count": 154,
   "id": "fbe44a84-c19d-4ef9-af8d-0e5a70d6dcc1",
   "metadata": {},
   "outputs": [
    {
     "data": {
      "text/plain": [
       "5.0"
      ]
     },
     "execution_count": 154,
     "metadata": {},
     "output_type": "execute_result"
    }
   ],
   "source": [
    "x = math.sqrt(25)\n",
    "x"
   ]
  },
  {
   "cell_type": "code",
   "execution_count": 156,
   "id": "c5486dc6-89d5-44e2-950f-0503fbaeed85",
   "metadata": {},
   "outputs": [
    {
     "data": {
      "text/plain": [
       "3.872983346207417"
      ]
     },
     "execution_count": 156,
     "metadata": {},
     "output_type": "execute_result"
    }
   ],
   "source": [
    "x1 =math.sqrt(15)\n",
    "x1"
   ]
  },
  {
   "cell_type": "code",
   "execution_count": 158,
   "id": "bebb18e5-cbe7-4a48-80b0-73005998c1d3",
   "metadata": {},
   "outputs": [
    {
     "name": "stdout",
     "output_type": "stream",
     "text": [
      "3\n"
     ]
    }
   ],
   "source": [
    "print(math.floor(3.87))"
   ]
  },
  {
   "cell_type": "code",
   "execution_count": 160,
   "id": "55b1d79b-7e13-48ef-955d-28f8c38d5432",
   "metadata": {},
   "outputs": [
    {
     "name": "stdout",
     "output_type": "stream",
     "text": [
      "4\n"
     ]
    }
   ],
   "source": [
    "print(math.ceil(3.87))"
   ]
  },
  {
   "cell_type": "code",
   "execution_count": 162,
   "id": "4a75abc6-1810-4558-bffe-73c271142804",
   "metadata": {},
   "outputs": [
    {
     "name": "stdout",
     "output_type": "stream",
     "text": [
      "9.0\n"
     ]
    }
   ],
   "source": [
    "print(math.pow(3,2))"
   ]
  },
  {
   "cell_type": "code",
   "execution_count": 164,
   "id": "4babafcf-7c4d-4929-9326-1a81c65de4c3",
   "metadata": {},
   "outputs": [
    {
     "name": "stdout",
     "output_type": "stream",
     "text": [
      "3.141592653589793\n"
     ]
    }
   ],
   "source": [
    "print(math.pi)"
   ]
  },
  {
   "cell_type": "code",
   "execution_count": 166,
   "id": "18f30c48-e8ab-4a2d-ba84-7dfdac7bba94",
   "metadata": {},
   "outputs": [
    {
     "name": "stdout",
     "output_type": "stream",
     "text": [
      "2.718281828459045\n"
     ]
    }
   ],
   "source": [
    "print(math.e)"
   ]
  },
  {
   "cell_type": "code",
   "execution_count": 172,
   "id": "90548482-19d6-4d72-86de-138bf93c14d6",
   "metadata": {},
   "outputs": [
    {
     "name": "stdin",
     "output_type": "stream",
     "text": [
      " 2\n",
      " 3\n"
     ]
    },
    {
     "name": "stdout",
     "output_type": "stream",
     "text": [
      "23\n"
     ]
    }
   ],
   "source": [
    "x = input()\n",
    "y = input()\n",
    "z = x+ y\n",
    "print(z)"
   ]
  },
  {
   "cell_type": "code",
   "execution_count": 176,
   "id": "a5007d41-3099-485c-ba09-b50758801a4a",
   "metadata": {},
   "outputs": [
    {
     "name": "stdin",
     "output_type": "stream",
     "text": [
      "Enter the 1st num: 2\n",
      "Enter the 2nd num: 3\n"
     ]
    },
    {
     "name": "stdout",
     "output_type": "stream",
     "text": [
      "5\n"
     ]
    }
   ],
   "source": [
    "x1 = input('Enter the 1st num:')\n",
    "a1 = int(x1)\n",
    "y1 = input('Enter the 2nd num:')\n",
    "b1 = int(y1)\n",
    "z1 = a1 + b1\n",
    "print(z1)"
   ]
  },
  {
   "cell_type": "code",
   "execution_count": 178,
   "id": "68ad5b75-b4d2-4a47-9bf5-5f6a76e16ed4",
   "metadata": {},
   "outputs": [
    {
     "name": "stdin",
     "output_type": "stream",
     "text": [
      "enter a char hello\n"
     ]
    },
    {
     "name": "stdout",
     "output_type": "stream",
     "text": [
      "hello\n"
     ]
    }
   ],
   "source": [
    "ch = input('enter a char')\n",
    "print(ch)"
   ]
  },
  {
   "cell_type": "code",
   "execution_count": 180,
   "id": "82e10d3f-88ee-42da-85c0-1295599e17cd",
   "metadata": {},
   "outputs": [
    {
     "name": "stdout",
     "output_type": "stream",
     "text": [
      "h\n"
     ]
    }
   ],
   "source": [
    "print(ch[0])"
   ]
  },
  {
   "cell_type": "code",
   "execution_count": 190,
   "id": "9578aedc-68d3-407b-977a-359c0552e5fd",
   "metadata": {},
   "outputs": [
    {
     "name": "stdin",
     "output_type": "stream",
     "text": [
      "enter a char helloworld\n"
     ]
    },
    {
     "name": "stdout",
     "output_type": "stream",
     "text": [
      "llow\n"
     ]
    }
   ],
   "source": [
    "ch = input('enter a char')[2:6]\n",
    "print(ch)"
   ]
  },
  {
   "cell_type": "code",
   "execution_count": 192,
   "id": "18717676-4eca-450a-9fb5-26360ed9ee93",
   "metadata": {},
   "outputs": [
    {
     "name": "stdin",
     "output_type": "stream",
     "text": [
      "enter an expr 12+ 9*5\n"
     ]
    },
    {
     "name": "stdout",
     "output_type": "stream",
     "text": [
      "57\n"
     ]
    }
   ],
   "source": [
    "result = eval(input('enter an expr'))\n",
    "print(result)"
   ]
  },
  {
   "cell_type": "code",
   "execution_count": null,
   "id": "ce784060-0c46-41af-b2c3-c3c468e0144a",
   "metadata": {},
   "outputs": [],
   "source": []
  },
  {
   "cell_type": "code",
   "execution_count": null,
   "id": "30a8bff4-5040-4303-8447-d6f2f3e5a2c7",
   "metadata": {},
   "outputs": [],
   "source": []
  },
  {
   "cell_type": "code",
   "execution_count": null,
   "id": "3861d5ce-9fb6-4bc3-af80-54f4312cb9f7",
   "metadata": {},
   "outputs": [],
   "source": []
  },
  {
   "cell_type": "code",
   "execution_count": null,
   "id": "1c5907b0-98da-447c-bc94-6f8df486c3b6",
   "metadata": {},
   "outputs": [],
   "source": []
  },
  {
   "cell_type": "code",
   "execution_count": null,
   "id": "94c7a374-730c-432e-b578-b185872aa287",
   "metadata": {},
   "outputs": [],
   "source": []
  },
  {
   "cell_type": "code",
   "execution_count": null,
   "id": "948f48f6-46f5-45e1-b32d-469de8264f10",
   "metadata": {},
   "outputs": [],
   "source": []
  },
  {
   "cell_type": "code",
   "execution_count": null,
   "id": "4552a4e7-0b55-465f-958f-6b58c86b4c69",
   "metadata": {},
   "outputs": [],
   "source": []
  },
  {
   "cell_type": "code",
   "execution_count": null,
   "id": "b18379b4-c691-4198-8859-e02cf0203038",
   "metadata": {},
   "outputs": [],
   "source": []
  },
  {
   "cell_type": "code",
   "execution_count": null,
   "id": "562099d2-e270-4065-8c3d-0903f19ababe",
   "metadata": {},
   "outputs": [],
   "source": []
  },
  {
   "cell_type": "code",
   "execution_count": null,
   "id": "2efd41cc-fd94-489d-94a5-1db5f401c972",
   "metadata": {},
   "outputs": [],
   "source": []
  },
  {
   "cell_type": "code",
   "execution_count": null,
   "id": "6502fd3c-92e2-4e59-b1b4-e3fff23d2887",
   "metadata": {},
   "outputs": [],
   "source": []
  },
  {
   "cell_type": "code",
   "execution_count": null,
   "id": "fb86609f-4ade-44c8-86b0-cd8beda1e4ad",
   "metadata": {},
   "outputs": [],
   "source": []
  },
  {
   "cell_type": "code",
   "execution_count": null,
   "id": "17ab2c3e-d0e2-4af0-bf74-f1682867a23b",
   "metadata": {},
   "outputs": [],
   "source": []
  },
  {
   "cell_type": "code",
   "execution_count": null,
   "id": "41571741-5064-49ef-b978-acc30153c5d7",
   "metadata": {},
   "outputs": [],
   "source": []
  },
  {
   "cell_type": "code",
   "execution_count": null,
   "id": "11101459-62a4-4448-845b-2c4a9cdb6d2d",
   "metadata": {},
   "outputs": [],
   "source": []
  },
  {
   "cell_type": "code",
   "execution_count": null,
   "id": "d41743d3-0e49-4fed-8411-85cd455ed2c5",
   "metadata": {},
   "outputs": [],
   "source": []
  },
  {
   "cell_type": "code",
   "execution_count": null,
   "id": "257c27a5-831d-4f98-8da9-77bf14c9f174",
   "metadata": {},
   "outputs": [],
   "source": []
  },
  {
   "cell_type": "code",
   "execution_count": null,
   "id": "ffa77940-c746-40ce-948f-1b90ecfcb0fb",
   "metadata": {},
   "outputs": [],
   "source": []
  },
  {
   "cell_type": "code",
   "execution_count": null,
   "id": "446cfd72-bbbb-458f-89e6-7e18cae9b2bd",
   "metadata": {},
   "outputs": [],
   "source": []
  },
  {
   "cell_type": "code",
   "execution_count": null,
   "id": "1f3968aa-018b-4b18-bee7-933febbc1547",
   "metadata": {},
   "outputs": [],
   "source": []
  }
 ],
 "metadata": {
  "kernelspec": {
   "display_name": "Python 3 (ipykernel)",
   "language": "python",
   "name": "python3"
  },
  "language_info": {
   "codemirror_mode": {
    "name": "ipython",
    "version": 3
   },
   "file_extension": ".py",
   "mimetype": "text/x-python",
   "name": "python",
   "nbconvert_exporter": "python",
   "pygments_lexer": "ipython3",
   "version": "3.12.4"
  }
 },
 "nbformat": 4,
 "nbformat_minor": 5
}
